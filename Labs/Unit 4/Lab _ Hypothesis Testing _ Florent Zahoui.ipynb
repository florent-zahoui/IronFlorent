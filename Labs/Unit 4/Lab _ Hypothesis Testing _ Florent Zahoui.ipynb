{
 "cells": [
  {
   "cell_type": "markdown",
   "id": "7942cbc0",
   "metadata": {},
   "source": [
    "### Instructions\n",
    "\n",
    "1. It is assumed that the mean systolic blood pressure is `μ = 120 mm Hg`. In the Honolulu Heart Study, a sample of `n = 100` people had an average systolic blood pressure of 130.1 mm Hg with a standard deviation of 21.21 mm Hg. Is the group significantly different (with respect to systolic blood pressure!) from the regular population?\n",
    "\n",
    "   - Set up the hypothesis test.\n",
    "   - Write down all the steps followed for setting up the test.\n",
    "   - Calculate the test statistic by hand and also code it in Python. It should be 4.76190. What decision can you make based on this calculated value?\n"
   ]
  },
  {
   "cell_type": "markdown",
   "id": "b7e089a3",
   "metadata": {},
   "source": [
    "- Set up the hypothesis test :\n",
    "\n",
    "The null hypothesis is mu = 120 mm Hg\n",
    "The alternative hypothesis is mu != 120 mm Hg\n",
    "\n",
    "As the sample size is n=100,we will use a test statistic for a normal distribution.\n",
    "\n",
    "The test statistic is z = (130.1 - 120) / (21.21 / √100 ) = 4.76190\n",
    "\n",
    "The critical value of the normal distribution is zc = 1.96\n",
    "\n",
    "z>zc, we reject the null hypothesis\n"
   ]
  },
  {
   "cell_type": "code",
   "execution_count": 1,
   "id": "40779ca4",
   "metadata": {},
   "outputs": [
    {
     "name": "stdout",
     "output_type": "stream",
     "text": [
      "4.761904761904759\n",
      "1.959963984540054\n"
     ]
    }
   ],
   "source": [
    "import numpy as np\n",
    "import pandas as pd\n",
    "import scipy.stats as stats\n",
    "import matplotlib.pyplot as plt\n",
    "import seaborn as sns\n",
    "\n",
    "%matplotlib inline\n",
    "\n",
    "n = 100\n",
    "sample_mean = 130.1\n",
    "pop_mean = 120\n",
    "pop_std_dev = 21.21\n",
    "\n",
    "z = ( sample_mean - pop_mean ) / ( pop_std_dev / np.sqrt(n) )\n",
    "\n",
    "zc = stats.norm.ppf(1-(0.05/2))\n",
    "\n",
    "print(z)\n",
    "print(zc)"
   ]
  },
  {
   "cell_type": "markdown",
   "id": "ec6449ad",
   "metadata": {},
   "source": [
    "# On Friday\n",
    "2. In a packing plant, a machine packs cartons with jars. It is supposed that a new machine will pack faster on the average than the machine currently used. To test that hypothesis, the times it takes each machine to pack ten cartons are recorded. The results, in seconds, are shown in the tables in the file `Data/machine.txt`. Assume that there is sufficient evidence to conduct the t test, does the data provide sufficient evidence to show if one machine is better than the other\n",
    "\n",
    "H0: mean_new_machine = mean_old_machine \n",
    "H1: mean_new_machine != mean_old_machine\n",
    "\n",
    "New Machine\t  Old Machine\n",
    "42.1\t        42.7\n",
    "41\t          43.6\n",
    "41.3\t        43.8\n",
    "41.8\t        43.3\n",
    "42.4\t        42.5\n",
    "42.8\t        43.5\n",
    "43.2\t        43.1\n",
    "42.3\t        41.7\n",
    "41.8\t        44\n",
    "42.7\t        44.1\n"
   ]
  },
  {
   "cell_type": "code",
   "execution_count": 5,
   "id": "4da0ec5e",
   "metadata": {},
   "outputs": [
    {
     "name": "stdout",
     "output_type": "stream",
     "text": [
      "   new_machine  old_machine\n",
      "0         42.1         42.7\n",
      "1         41.0         43.6\n",
      "2         41.3         43.8\n",
      "3         41.8         43.3\n",
      "4         42.4         42.5\n",
      "5         42.8         43.5\n",
      "6         43.2         43.1\n",
      "7         42.3         41.7\n",
      "8         41.8         44.0\n",
      "9         42.7         44.1\n"
     ]
    }
   ],
   "source": [
    "import pandas as pd\n",
    "import numpy as np\n",
    "\n",
    "data = {\"new_machine\" : [42.1,41,41.3,41.8,42.4,42.8,43.2,42.3,41.8,42.7],\n",
    "       \"old_machine\" : [42.7,43.6,43.8,43.3,42.5,43.5,43.1,41.7,44,44.1]}\n",
    "\n",
    "df = pd.DataFrame.from_dict(data)\n",
    "\n",
    "print(df)"
   ]
  },
  {
   "cell_type": "code",
   "execution_count": 10,
   "id": "3ee4509d",
   "metadata": {},
   "outputs": [
    {
     "name": "stdout",
     "output_type": "stream",
     "text": [
      "42.14\n",
      "43.230000000000004\n",
      "0.6483826030978941\n",
      "0.7114070564732956\n"
     ]
    }
   ],
   "source": [
    "mean_new_machine = np.mean(df.new_machine)\n",
    "mean_old_machine = np.mean(df.old_machine)\n",
    "std_new_machine = np.std(df.new_machine)\n",
    "std_old_machine = np.std(df.old_machine)\n",
    "print(mean_new_machine)\n",
    "print(mean_old_machine)\n",
    "print(std_new_machine)\n",
    "print(std_old_machine)"
   ]
  },
  {
   "cell_type": "code",
   "execution_count": 11,
   "id": "5ef022ab",
   "metadata": {},
   "outputs": [
    {
     "data": {
      "text/plain": [
       "-3.5809955894645813"
      ]
     },
     "execution_count": 11,
     "metadata": {},
     "output_type": "execute_result"
    }
   ],
   "source": [
    "t = ( mean_new_machine - mean_old_machine ) / np.sqrt( ((std_new_machine**2)/10) + ((std_old_machine**2)/10 ) )\n",
    "t"
   ]
  },
  {
   "cell_type": "code",
   "execution_count": 13,
   "id": "0977664e",
   "metadata": {},
   "outputs": [
    {
     "data": {
      "text/plain": [
       "2.2621571627409915"
      ]
     },
     "execution_count": 13,
     "metadata": {},
     "output_type": "execute_result"
    }
   ],
   "source": [
    "import scipy.stats as stats\n",
    "\n",
    "tc = stats.t.ppf(1-(0.05/2),9)\n",
    "tc\n",
    "\n",
    "#We reject the hypothesis"
   ]
  }
 ],
 "metadata": {
  "kernelspec": {
   "display_name": "Python 3 (ipykernel)",
   "language": "python",
   "name": "python3"
  },
  "language_info": {
   "codemirror_mode": {
    "name": "ipython",
    "version": 3
   },
   "file_extension": ".py",
   "mimetype": "text/x-python",
   "name": "python",
   "nbconvert_exporter": "python",
   "pygments_lexer": "ipython3",
   "version": "3.9.7"
  }
 },
 "nbformat": 4,
 "nbformat_minor": 5
}
