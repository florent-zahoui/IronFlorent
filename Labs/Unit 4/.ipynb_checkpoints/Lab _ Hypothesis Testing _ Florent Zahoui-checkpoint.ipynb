{
 "cells": [
  {
   "cell_type": "markdown",
   "id": "7942cbc0",
   "metadata": {},
   "source": [
    "### Instructions\n",
    "\n",
    "1. It is assumed that the mean systolic blood pressure is `μ = 120 mm Hg`. In the Honolulu Heart Study, a sample of `n = 100` people had an average systolic blood pressure of 130.1 mm Hg with a standard deviation of 21.21 mm Hg. Is the group significantly different (with respect to systolic blood pressure!) from the regular population?\n",
    "\n",
    "   - Set up the hypothesis test.\n",
    "   - Write down all the steps followed for setting up the test.\n",
    "   - Calculate the test statistic by hand and also code it in Python. It should be 4.76190. What decision can you make based on this calculated value?\n",
    "# On Friday\n",
    "2. In a packing plant, a machine packs cartons with jars. It is supposed that a new machine will pack faster on the average than the machine currently used. To test that hypothesis, the times it takes each machine to pack ten cartons are recorded. The results, in seconds, are shown in the tables in the file `Data/machine.txt`. Assume that there is sufficient evidence to conduct the t test, does the data provide sufficient evidence to show if one machine is better than the other\n"
   ]
  },
  {
   "cell_type": "markdown",
   "id": "b7e089a3",
   "metadata": {},
   "source": [
    "- Set up the hypothesis test :\n",
    "\n",
    "The null hypothesis is mu = 120 mm Hg\n",
    "The alternative hypothesis is mu != 120 mm Hg\n",
    "\n",
    "As the sample size is n=100,we will use a test statistic for a normal distribution.\n",
    "\n",
    "The test statistic is z = (130.1 - 120) / (21.21 / √100 ) = 4.76190\n",
    "\n",
    "The critical value of the normal distribution is zc = 1.96\n",
    "\n",
    "z>zc, we reject the null hypothesis\n"
   ]
  },
  {
   "cell_type": "code",
   "execution_count": 1,
   "id": "40779ca4",
   "metadata": {},
   "outputs": [
    {
     "name": "stdout",
     "output_type": "stream",
     "text": [
      "4.761904761904759\n",
      "1.959963984540054\n"
     ]
    }
   ],
   "source": [
    "import numpy as np\n",
    "import pandas as pd\n",
    "import scipy.stats as stats\n",
    "import matplotlib.pyplot as plt\n",
    "import seaborn as sns\n",
    "\n",
    "%matplotlib inline\n",
    "\n",
    "n = 100\n",
    "sample_mean = 130.1\n",
    "pop_mean = 120\n",
    "pop_std_dev = 21.21\n",
    "\n",
    "z = ( sample_mean - pop_mean ) / ( pop_std_dev / np.sqrt(n) )\n",
    "\n",
    "zc = stats.norm.ppf(1-(0.05/2))\n",
    "\n",
    "print(z)\n",
    "print(zc)"
   ]
  }
 ],
 "metadata": {
  "kernelspec": {
   "display_name": "Python 3 (ipykernel)",
   "language": "python",
   "name": "python3"
  },
  "language_info": {
   "codemirror_mode": {
    "name": "ipython",
    "version": 3
   },
   "file_extension": ".py",
   "mimetype": "text/x-python",
   "name": "python",
   "nbconvert_exporter": "python",
   "pygments_lexer": "ipython3",
   "version": "3.9.7"
  }
 },
 "nbformat": 4,
 "nbformat_minor": 5
}
