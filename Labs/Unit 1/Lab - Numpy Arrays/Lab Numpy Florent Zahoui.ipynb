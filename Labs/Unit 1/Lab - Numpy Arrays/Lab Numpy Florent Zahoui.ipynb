{
 "cells": [
  {
   "cell_type": "markdown",
   "id": "d1790b6d",
   "metadata": {},
   "source": [
    "1. Import the numpy package under the name np (★☆☆)\n",
    "hint: import … as\n",
    "\n",
    "2. Create a null vector of size 10 (★☆☆)\n",
    "hint: np.zeros\n",
    "\n",
    "3. Create a null vector of size 10 but the fifth value which is 1 (★☆☆)\n",
    "hint: array[4]\n",
    "\n",
    "4. Create a vector with values ranging from 10 to 49 (★☆☆)\n",
    "hint: arange\n",
    "\n",
    "5. Create a 3x3 matrix with values ranging from 0 to 8 (★☆☆)\n",
    "hint: reshape\n",
    "\n",
    "6. Find indices of non-zero elements from [1,2,0,0,4,0] (★☆☆)\n",
    "hint: np.nonzero\n",
    "\n",
    "7. Create a 3x3 identity matrix (★☆☆)\n",
    "hint: np.eye\n",
    "\n",
    "8. Create a 3x3x3 array with random values (★☆☆)\n",
    "hint: np.random.random\n",
    "\n",
    "9. Create a 10x10 array with random values and find the minimum and maximum values (★☆☆)\n",
    "hint: min, max\n",
    "\n",
    "10. Create a random vector of size 30 and find the mean value (★☆☆)\n",
    "hint: mean\n",
    "\n",
    "11. Create a 5x5 matrix with values 1,2,3,4 just below the diagonal (★☆☆)\n",
    "hint: np.diag\n",
    "\n",
    "12. Normalize a 5x5 random matrix (★☆☆)\n",
    "hint: (x -mean)/std\n",
    "\n",
    "13. How to find common values between two arrays? (★☆☆)\n",
    "hint: np.intersect1d\n",
    "\n",
    "14. Create a random vector of size 10 and sort it (★★☆)\n",
    "hint: sort\n",
    "\n",
    "15. Create random vector of size 10 and replace the maximum value by 0 (★★☆)\n",
    "hint: argmax\n",
    "\n",
    "16. Subtract the mean of each row of a matrix (★★☆)\n",
    "hint: mean(axis=,keepdims=)\n",
    "\n",
    "17. How to get the n largest values of an array (★★★)\n",
    "Z = np.arange(10000) np.random.shuffle(Z) n = 5 hint: np.argsort | np.argpartition\n",
    "\n",
    "18. Create a random 5*3 matrix and replace items that are larger than 4 by their squares ( Example: 6 --> 36)\n",
    "hint: np.where"
   ]
  },
  {
   "cell_type": "code",
   "execution_count": 2,
   "id": "43b4487b",
   "metadata": {},
   "outputs": [],
   "source": [
    "#1. Import the numpy package under the name np (★☆☆)\n",
    "import numpy as np"
   ]
  },
  {
   "cell_type": "code",
   "execution_count": 2,
   "id": "25149b7b",
   "metadata": {},
   "outputs": [
    {
     "data": {
      "text/plain": [
       "array([0., 0., 0., 0., 0., 0., 0., 0., 0., 0.])"
      ]
     },
     "execution_count": 2,
     "metadata": {},
     "output_type": "execute_result"
    }
   ],
   "source": [
    "#2. Create a null vector of size 10 (★☆☆)\n",
    "np.zeros(10)"
   ]
  },
  {
   "cell_type": "code",
   "execution_count": 8,
   "id": "c0279d6a",
   "metadata": {},
   "outputs": [
    {
     "name": "stdout",
     "output_type": "stream",
     "text": [
      "[0. 0. 0. 0. 1. 0. 0. 0. 0. 0.]\n"
     ]
    }
   ],
   "source": [
    "#3. Create a null vector of size 10 but the fifth value which is 1 (★☆☆)\n",
    "a = np.zeros(10)\n",
    "a[4] = 1\n",
    "print(a)"
   ]
  },
  {
   "cell_type": "code",
   "execution_count": 10,
   "id": "f063a61c",
   "metadata": {},
   "outputs": [
    {
     "data": {
      "text/plain": [
       "array([10, 11, 12, 13, 14, 15, 16, 17, 18, 19, 20, 21, 22, 23, 24, 25, 26,\n",
       "       27, 28, 29, 30, 31, 32, 33, 34, 35, 36, 37, 38, 39, 40, 41, 42, 43,\n",
       "       44, 45, 46, 47, 48, 49])"
      ]
     },
     "execution_count": 10,
     "metadata": {},
     "output_type": "execute_result"
    }
   ],
   "source": [
    "#4. Create a vector with values ranging from 10 to 49 (★☆☆)\n",
    "np.arange(10,50)"
   ]
  },
  {
   "cell_type": "code",
   "execution_count": 11,
   "id": "de5daef5",
   "metadata": {},
   "outputs": [
    {
     "data": {
      "text/plain": [
       "array([[4, 2, 8],\n",
       "       [7, 5, 6],\n",
       "       [0, 7, 7]])"
      ]
     },
     "execution_count": 11,
     "metadata": {},
     "output_type": "execute_result"
    }
   ],
   "source": [
    "#5. Create a 3x3 matrix with values ranging from 0 to 8 (★☆☆)\n",
    "np.random.randint(0,9,(3,3))"
   ]
  },
  {
   "cell_type": "code",
   "execution_count": 12,
   "id": "c36862f9",
   "metadata": {},
   "outputs": [
    {
     "data": {
      "text/plain": [
       "(array([0, 1, 4], dtype=int64),)"
      ]
     },
     "execution_count": 12,
     "metadata": {},
     "output_type": "execute_result"
    }
   ],
   "source": [
    "#6. Find indices of non-zero elements from [1,2,0,0,4,0] (★☆☆)\n",
    "b = np.array([1,2,0,0,4,0])\n",
    "np.nonzero(b)"
   ]
  },
  {
   "cell_type": "code",
   "execution_count": 14,
   "id": "e1077aea",
   "metadata": {},
   "outputs": [
    {
     "name": "stdout",
     "output_type": "stream",
     "text": [
      "[[1. 0. 0.]\n",
      " [0. 1. 0.]\n",
      " [0. 0. 1.]]\n"
     ]
    }
   ],
   "source": [
    "#7. Create a 3x3 identity matrix (★☆☆)\n",
    "c = np.identity(3)\n",
    "print(c)"
   ]
  },
  {
   "cell_type": "code",
   "execution_count": 17,
   "id": "77af4be2",
   "metadata": {
    "scrolled": true
   },
   "outputs": [
    {
     "data": {
      "text/plain": [
       "array([[[0.38655302, 0.79648014, 0.49440043],\n",
       "        [0.46965262, 0.04990551, 0.09081639],\n",
       "        [0.72912643, 0.36763741, 0.65307348]],\n",
       "\n",
       "       [[0.89002529, 0.14157976, 0.15568924],\n",
       "        [0.59370246, 0.99450623, 0.24932727],\n",
       "        [0.80621585, 0.00178251, 0.47212706]],\n",
       "\n",
       "       [[0.2763153 , 0.83688332, 0.44270745],\n",
       "        [0.68594796, 0.60167744, 0.76387187],\n",
       "        [0.35778502, 0.03693274, 0.23223962]]])"
      ]
     },
     "execution_count": 17,
     "metadata": {},
     "output_type": "execute_result"
    }
   ],
   "source": [
    "#8. Create a 3x3x3 array with random values (★☆☆)\n",
    "d = np.random.random((3,3,3))\n",
    "d"
   ]
  },
  {
   "cell_type": "code",
   "execution_count": 21,
   "id": "7b6ed2ab",
   "metadata": {},
   "outputs": [
    {
     "name": "stdout",
     "output_type": "stream",
     "text": [
      "0.9980281900113879\n",
      "0.009892849149389482\n"
     ]
    }
   ],
   "source": [
    "#9. Create a 10x10 array with random values and find the minimum and maximum values (★☆☆)\n",
    "e = np.random.random((10,10))\n",
    "e\n",
    "print(np.max(e))\n",
    "print(np.min(e))"
   ]
  },
  {
   "cell_type": "code",
   "execution_count": 26,
   "id": "3969232c",
   "metadata": {},
   "outputs": [
    {
     "name": "stdout",
     "output_type": "stream",
     "text": [
      "0.5462482618914449\n"
     ]
    }
   ],
   "source": [
    "#10. Create a random vector of size 30 and find the mean value (★☆☆)\n",
    "f = np.random.random((30))\n",
    "print(np.mean(f))"
   ]
  },
  {
   "cell_type": "code",
   "execution_count": 33,
   "id": "8c7f4215",
   "metadata": {
    "scrolled": true
   },
   "outputs": [
    {
     "name": "stdout",
     "output_type": "stream",
     "text": [
      "[1 2 3 4]\n",
      "[[0 0 0 0 0]\n",
      " [1 0 0 0 0]\n",
      " [0 2 0 0 0]\n",
      " [0 0 3 0 0]\n",
      " [0 0 0 4 0]]\n"
     ]
    }
   ],
   "source": [
    "#11. Create a 5x5 matrix with values 1,2,3,4 just below the diagonal (★☆☆)\n",
    "print(1+np.arange(4))\n",
    "g = np.diag(1+np.arange(4),k=-1)\n",
    "print(g)"
   ]
  },
  {
   "cell_type": "code",
   "execution_count": 41,
   "id": "4908926d",
   "metadata": {
    "scrolled": true
   },
   "outputs": [
    {
     "name": "stdout",
     "output_type": "stream",
     "text": [
      "[[0.57636013 0.80396404 0.653464   0.49066517 0.89510617]\n",
      " [0.79787064 0.24964555 0.1741     0.67921355 0.86678307]\n",
      " [0.96904973 0.66765208 0.51336959 0.36617072 0.05885179]\n",
      " [0.41802287 0.65190946 0.83094796 0.53254695 0.40169191]\n",
      " [0.44776609 0.5137876  0.43016511 0.23693139 0.65869403]]\n",
      "0.9690497294789154\n",
      "0.0588517930362733\n",
      "[[0.5685668  0.8186266  0.65327791 0.474417   0.91876102]\n",
      " [0.81193202 0.20961787 0.12661884 0.68156797 0.8876435 ]\n",
      " [1.         0.66886581 0.49936149 0.33763966 0.        ]\n",
      " [0.39460766 0.65157    0.84827281 0.52043093 0.37666546]\n",
      " [0.42728541 0.49982074 0.40794788 0.19564931 0.65902395]]\n"
     ]
    }
   ],
   "source": [
    "#12. Normalize a 5x5 random matrix (★☆☆)\n",
    "h = np.random.random((5,5))\n",
    "print(h)\n",
    "hmax, hmin = h.max(), h.min()\n",
    "print(h.max())\n",
    "print(hmin)\n",
    "h = (h-hmin)/(hmax-hmin)\n",
    "print(h)"
   ]
  },
  {
   "cell_type": "code",
   "execution_count": 42,
   "id": "92745d8d",
   "metadata": {},
   "outputs": [
    {
     "data": {
      "text/plain": [
       "array([0., 1.])"
      ]
     },
     "execution_count": 42,
     "metadata": {},
     "output_type": "execute_result"
    }
   ],
   "source": [
    "#13. How to find common values between two arrays? (★☆☆)\n",
    "np.intersect1d(b,c)"
   ]
  },
  {
   "cell_type": "code",
   "execution_count": 43,
   "id": "9eeb2bab",
   "metadata": {
    "scrolled": true
   },
   "outputs": [
    {
     "name": "stdout",
     "output_type": "stream",
     "text": [
      "[0.01667529 0.01868426 0.03493698 0.23994028 0.32616531 0.46893248\n",
      " 0.5918871  0.63273195 0.94349673 0.96468945]\n"
     ]
    }
   ],
   "source": [
    "#14. Create a random vector of size 10 and sort it (★★☆)\n",
    "j = np.random.random(10)\n",
    "j.sort()\n",
    "print(j)"
   ]
  },
  {
   "cell_type": "code",
   "execution_count": 44,
   "id": "a697142d",
   "metadata": {
    "scrolled": true
   },
   "outputs": [
    {
     "name": "stdout",
     "output_type": "stream",
     "text": [
      "Original array:\n",
      "[0.24229843 0.14591158 0.27993622 0.67651554 0.05229795 0.62736564\n",
      " 0.75247362 0.33714937 0.70227446 0.90496327 0.64486959 0.75986223\n",
      " 0.61875777 0.23195032 0.66641859]\n",
      "Maximum value replaced by -1:\n",
      "[ 0.24229843  0.14591158  0.27993622  0.67651554  0.05229795  0.62736564\n",
      "  0.75247362  0.33714937  0.70227446 -1.          0.64486959  0.75986223\n",
      "  0.61875777  0.23195032  0.66641859]\n"
     ]
    }
   ],
   "source": [
    "#15. Create random vector of size 10 and replace the maximum value by 0 (★★☆)\n",
    "k = np.random.random(15)\n",
    "print(\"Original array:\")\n",
    "print(k)\n",
    "k[k.argmax()] = -1\n",
    "print(\"Maximum value replaced by -1:\")\n",
    "print(k)"
   ]
  },
  {
   "cell_type": "code",
   "execution_count": 45,
   "id": "df598d14",
   "metadata": {
    "scrolled": true
   },
   "outputs": [
    {
     "name": "stdout",
     "output_type": "stream",
     "text": [
      "[[ 0.20319066  0.29104431  0.05363599 -0.29532379  0.04482364  0.04556299\n",
      "  -0.08188535  0.14828028 -0.4711238   0.06179507]\n",
      " [-0.10762801  0.43990242  0.18134275  0.32394475  0.20659878 -0.49410245\n",
      "  -0.25224621 -0.0688422  -0.00635579 -0.22261404]\n",
      " [-0.04661981  0.39205345  0.19219817 -0.257593    0.2514625  -0.49904848\n",
      "  -0.13068062  0.22419178  0.01248014 -0.13844415]\n",
      " [-0.36409881 -0.46930514 -0.00449433  0.00417777  0.04657075 -0.00537402\n",
      "   0.33661635 -0.27639034  0.45169215  0.28060562]\n",
      " [-0.04148196 -0.47489229  0.01801477  0.33853347  0.05538775  0.26107179\n",
      "   0.24621247 -0.4545283   0.14850043 -0.09681813]]\n"
     ]
    }
   ],
   "source": [
    "#16. Subtract the mean of each row of a matrix (★★☆)\n",
    "\n",
    "m = np.random.rand(5, 10)\n",
    "\n",
    "n = m - m.mean(axis=1, keepdims=True)\n",
    "\n",
    "print(n)"
   ]
  },
  {
   "cell_type": "code",
   "execution_count": 51,
   "id": "18a15676",
   "metadata": {
    "scrolled": true
   },
   "outputs": [
    {
     "name": "stdout",
     "output_type": "stream",
     "text": [
      "[ 542 7054 5620 ... 2820  749 5011]\n",
      "[5810 1414 1441 ... 2089 7431 6322]\n",
      "[   0    1    2 ... 9997 9998 9999]\n",
      "[9995 9996 9997 9998 9999]\n"
     ]
    }
   ],
   "source": [
    "#17. How to get the 5 largest values of an array (★★★)\n",
    "p = np.arange(10000) \n",
    "np.random.shuffle(p)\n",
    "print(p)\n",
    "sorted_index_array = np.argsort(p)\n",
    "print(sorted_index_array)\n",
    "sorted_array = p[sorted_index_array]\n",
    "print(sorted_array)\n",
    "rslt = sorted_array[-5 : ]\n",
    "print(rslt)"
   ]
  },
  {
   "cell_type": "code",
   "execution_count": 4,
   "id": "7badaaaa",
   "metadata": {},
   "outputs": [
    {
     "name": "stdout",
     "output_type": "stream",
     "text": [
      "[[8 7 7]\n",
      " [7 3 8]\n",
      " [5 6 8]\n",
      " [2 4 3]\n",
      " [1 5 4]]\n",
      "(array([0, 0, 0, 1, 1, 2, 2, 2, 4], dtype=int64), array([0, 1, 2, 0, 2, 0, 1, 2, 1], dtype=int64))\n"
     ]
    }
   ],
   "source": [
    "#18. Create a random 5*3 matrix and replace items that are larger than 4 by their squares\n",
    "#couldn't find solution\n",
    "q = np.random.randint(1,9,size=(5,3))\n",
    "r = np.where(q>4)\n",
    "print(q)\n",
    "print(r)\n",
    "np.put(q,r,(q**2))"
   ]
  }
 ],
 "metadata": {
  "kernelspec": {
   "display_name": "Python 3 (ipykernel)",
   "language": "python",
   "name": "python3"
  },
  "language_info": {
   "codemirror_mode": {
    "name": "ipython",
    "version": 3
   },
   "file_extension": ".py",
   "mimetype": "text/x-python",
   "name": "python",
   "nbconvert_exporter": "python",
   "pygments_lexer": "ipython3",
   "version": "3.9.7"
  }
 },
 "nbformat": 4,
 "nbformat_minor": 5
}
