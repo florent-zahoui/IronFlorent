{
 "cells": [
  {
   "cell_type": "markdown",
   "metadata": {
    "id": "N1YkD9XI6Fg3"
   },
   "source": [
    "# Using Pandas"
   ]
  },
  {
   "cell_type": "code",
   "execution_count": 1,
   "metadata": {
    "executionInfo": {
     "elapsed": 4,
     "status": "ok",
     "timestamp": 1623140082185,
     "user": {
      "displayName": "Ignacio Soteras",
      "photoUrl": "",
      "userId": "02050793736257155229"
     },
     "user_tz": -120
    },
    "id": "jL4kjGt66Fg5"
   },
   "outputs": [],
   "source": [
    "import pandas as pd\n",
    "import numpy as np\n",
    "pd.set_option('display.max_rows', 200)\n",
    "## to make it possible to display multiple output inside one cell \n",
    "from IPython.core.interactiveshell import InteractiveShell\n",
    "InteractiveShell.ast_node_interactivity = \"all\""
   ]
  },
  {
   "cell_type": "markdown",
   "metadata": {},
   "source": [
    "<b>load the data from the vehicles.csv file into pandas data frame"
   ]
  },
  {
   "cell_type": "code",
   "execution_count": 2,
   "metadata": {
    "executionInfo": {
     "elapsed": 1346,
     "status": "ok",
     "timestamp": 1623140174431,
     "user": {
      "displayName": "Ignacio Soteras",
      "photoUrl": "",
      "userId": "02050793736257155229"
     },
     "user_tz": -120
    },
    "id": "GVHPs2Qa6Fg5"
   },
   "outputs": [],
   "source": [
    "## I have applied the read_csv function to load the dataset\n",
    "vehicles = pd.read_csv(\"data/vehicles.csv\")"
   ]
  },
  {
   "cell_type": "markdown",
   "metadata": {
    "id": "Yk72_YtZ6Fg5"
   },
   "source": [
    "First exploration of the dataset:\n",
    "\n",
    "- How many observations does it have?\n",
    "- Look at all the columns: do you understand what they mean?\n",
    "- Look at the raw data: do you see anything weird?\n",
    "- Look at the data types: are they the expected ones for the information the column contains?"
   ]
  },
  {
   "cell_type": "markdown",
   "metadata": {},
   "source": [
    "How many observations does it have? 35952 rows\n",
    "Look at all the columns: do you understand what they mean? We have the registration information of the vehicle, the specifics of the vehicle and the performances\n",
    "Look at the raw data: do you see anything weird? I see that some vehicles that should have the same name brand have different ones\n",
    "Look at the data types: are they the expected ones for the information the column contains?"
   ]
  },
  {
   "cell_type": "code",
   "execution_count": 3,
   "metadata": {
    "colab": {
     "base_uri": "https://localhost:8080/"
    },
    "executionInfo": {
     "elapsed": 226,
     "status": "ok",
     "timestamp": 1623140221705,
     "user": {
      "displayName": "Ignacio Soteras",
      "photoUrl": "",
      "userId": "02050793736257155229"
     },
     "user_tz": -120
    },
    "id": "-FT85oMVPxlW",
    "outputId": "c9f5d2c8-d3c2-4acc-edec-914a92c7f60b"
   },
   "outputs": [
    {
     "name": "stdout",
     "output_type": "stream",
     "text": [
      "<class 'pandas.core.frame.DataFrame'>\n",
      "RangeIndex: 35952 entries, 0 to 35951\n",
      "Data columns (total 15 columns):\n",
      " #   Column                   Non-Null Count  Dtype  \n",
      "---  ------                   --------------  -----  \n",
      " 0   Make                     35952 non-null  object \n",
      " 1   Model                    35952 non-null  object \n",
      " 2   Year                     35952 non-null  int64  \n",
      " 3   Engine Displacement      35952 non-null  float64\n",
      " 4   Cylinders                35952 non-null  float64\n",
      " 5   Transmission             35952 non-null  object \n",
      " 6   Drivetrain               35952 non-null  object \n",
      " 7   Vehicle Class            35952 non-null  object \n",
      " 8   Fuel Type                35952 non-null  object \n",
      " 9   Fuel Barrels/Year        35952 non-null  float64\n",
      " 10  City MPG                 35952 non-null  int64  \n",
      " 11  Highway MPG              35952 non-null  int64  \n",
      " 12  Combined MPG             35952 non-null  int64  \n",
      " 13  CO2 Emission Grams/Mile  35952 non-null  float64\n",
      " 14  Fuel Cost/Year           35952 non-null  int64  \n",
      "dtypes: float64(4), int64(5), object(6)\n",
      "memory usage: 4.1+ MB\n",
      "Chevrolet                             3643\n",
      "Ford                                  2946\n",
      "Dodge                                 2360\n",
      "GMC                                   2347\n",
      "Toyota                                1836\n",
      "BMW                                   1677\n",
      "Mercedes-Benz                         1284\n",
      "Nissan                                1253\n",
      "Volkswagen                            1047\n",
      "Mitsubishi                             950\n",
      "Mazda                                  915\n",
      "Audi                                   890\n",
      "Porsche                                862\n",
      "Honda                                  836\n",
      "Jeep                                   829\n",
      "Pontiac                                784\n",
      "Subaru                                 781\n",
      "Volvo                                  717\n",
      "Hyundai                                662\n",
      "Chrysler                               641\n",
      "Buick                                  537\n",
      "Mercury                                532\n",
      "Suzuki                                 512\n",
      "Cadillac                               508\n",
      "Kia                                    493\n",
      "Plymouth                               456\n",
      "Saab                                   410\n",
      "Isuzu                                  409\n",
      "Lexus                                  397\n",
      "Oldsmobile                             376\n",
      "Infiniti                               345\n",
      "Jaguar                                 343\n",
      "MINI                                   320\n",
      "Acura                                  302\n",
      "Saturn                                 278\n",
      "Lincoln                                273\n",
      "Ferrari                                208\n",
      "Rolls-Royce                            160\n",
      "Eagle                                  156\n",
      "Geo                                    144\n",
      "Land Rover                             142\n",
      "Aston Martin                           133\n",
      "Bentley                                116\n",
      "Maserati                               111\n",
      "Lamborghini                            104\n",
      "Scion                                   83\n",
      "Peugeot                                 74\n",
      "Daewoo                                  67\n",
      "Ram                                     57\n",
      "Roush Performance                       53\n",
      "Lotus                                   53\n",
      "Fiat                                    43\n",
      "Alfa Romeo                              41\n",
      "J.K. Motors                             36\n",
      "Renault                                 33\n",
      "Wallace Environmental                   32\n",
      "Maybach                                 31\n",
      "American Motors Corporation             22\n",
      "smart                                   20\n",
      "Hummer                                  19\n",
      "Daihatsu                                17\n",
      "CX Automotive                           16\n",
      "Merkur                                  14\n",
      "Federal Coach                           14\n",
      "Import Trade Services                   13\n",
      "McLaren Automotive                      13\n",
      "Spyker                                  13\n",
      "Sterling                                12\n",
      "Bugatti                                  8\n",
      "Yugo                                     8\n",
      "Genesis                                  7\n",
      "Tecstar, LP                              6\n",
      "Mcevoy Motors                            6\n",
      "Saleen                                   5\n",
      "VPG                                      5\n",
      "Bertone                                  5\n",
      "Panther Car Company Limited              4\n",
      "Saleen Performance                       4\n",
      "AM General                               4\n",
      "TVR Engineering Ltd                      4\n",
      "Grumman Olson                            4\n",
      "Texas Coach Company                      4\n",
      "Vector                                   4\n",
      "Autokraft Limited                        4\n",
      "Morgan                                   3\n",
      "Evans Automobiles                        3\n",
      "Dacia                                    3\n",
      "Dabryan Coach Builders Inc               3\n",
      "Consulier Industries Inc                 3\n",
      "BMW Alpina                               3\n",
      "Bitter Gmbh and Co. Kg                   3\n",
      "SRT                                      2\n",
      "Ruf Automobile Gmbh                      2\n",
      "CCC Engineering                          2\n",
      "Red Shift Ltd.                           2\n",
      "Bill Dovell Motor Car Company            2\n",
      "Quantum Technologies                     2\n",
      "Pagani                                   2\n",
      "PAS, Inc                                 2\n",
      "Laforza Automobile Inc                   2\n",
      "Mobility Ventures LLC                    2\n",
      "Pininfarina                              2\n",
      "PAS Inc - GMC                            2\n",
      "Import Foreign Auto Sales Inc            1\n",
      "London Taxi                              1\n",
      "London Coach Co Inc                      1\n",
      "Qvale                                    1\n",
      "Grumman Allied Industries                1\n",
      "Vixen Motor Company                      1\n",
      "Volga Associated Automobile              1\n",
      "ASC Incorporated                         1\n",
      "Isis Imports Ltd                         1\n",
      "Aurora Cars Ltd                          1\n",
      "JBA Motorcars, Inc.                      1\n",
      "Mahindra                                 1\n",
      "Superior Coaches Div E.p. Dutton         1\n",
      "Goldacre                                 1\n",
      "General Motors                           1\n",
      "Fisker                                   1\n",
      "Shelby                                   1\n",
      "Panos                                    1\n",
      "Panoz Auto-Development                   1\n",
      "Excalibur Autos                          1\n",
      "S and S Coach Company  E.p. Dutton       1\n",
      "Environmental Rsch and Devp Corp         1\n",
      "E. P. Dutton, Inc.                       1\n",
      "Lambda Control Systems                   1\n",
      "Name: Make, dtype: int64\n",
      "               Make                Model  Year  Engine Displacement  \\\n",
      "0        AM General    DJ Po Vehicle 2WD  1984                  2.5   \n",
      "1        AM General     FJ8c Post Office  1984                  4.2   \n",
      "2        AM General  Post Office DJ5 2WD  1985                  2.5   \n",
      "3        AM General  Post Office DJ8 2WD  1985                  4.2   \n",
      "4  ASC Incorporated                  GNX  1987                  3.8   \n",
      "\n",
      "   Cylinders     Transmission        Drivetrain                Vehicle Class  \\\n",
      "0        4.0  Automatic 3-spd     2-Wheel Drive  Special Purpose Vehicle 2WD   \n",
      "1        6.0  Automatic 3-spd     2-Wheel Drive  Special Purpose Vehicle 2WD   \n",
      "2        4.0  Automatic 3-spd  Rear-Wheel Drive  Special Purpose Vehicle 2WD   \n",
      "3        6.0  Automatic 3-spd  Rear-Wheel Drive  Special Purpose Vehicle 2WD   \n",
      "4        6.0  Automatic 4-spd  Rear-Wheel Drive                 Midsize Cars   \n",
      "\n",
      "  Fuel Type  Fuel Barrels/Year  City MPG  Highway MPG  Combined MPG  \\\n",
      "0   Regular          19.388824        18           17            17   \n",
      "1   Regular          25.354615        13           13            13   \n",
      "2   Regular          20.600625        16           17            16   \n",
      "3   Regular          25.354615        13           13            13   \n",
      "4   Premium          20.600625        14           21            16   \n",
      "\n",
      "   CO2 Emission Grams/Mile  Fuel Cost/Year  \n",
      "0               522.764706            1950  \n",
      "1               683.615385            2550  \n",
      "2               555.437500            2100  \n",
      "3               683.615385            2550  \n",
      "4               555.437500            2550  \n"
     ]
    }
   ],
   "source": [
    "## Your Code here\n",
    "vehicles.info()\n",
    "print(vehicles[\"Make\"].value_counts())\n",
    "print(vehicles.head())"
   ]
  },
  {
   "cell_type": "markdown",
   "metadata": {
    "id": "tqcFYXUk6Fg6"
   },
   "source": [
    "### Cleaning and wrangling data\n",
    "\n",
    "- Some car brand names refer to the same brand. Replace all brand names that contain the word \"Dutton\" for simply \"Dutton\". If you find similar examples, clean their names too. Use `loc` with boolean indexing.\n",
    "\n",
    "- Convert CO2 Emissions from Grams/Mile to Grams/Km\n",
    "\n",
    "- Create a binary column that solely indicates if the transmission of a car is automatic or manual. Use `pandas.Series.str.startswith` and .\n",
    "\n",
    "- convert MPG columns to km_per_liter"
   ]
  },
  {
   "cell_type": "code",
   "execution_count": 9,
   "metadata": {
    "colab": {
     "base_uri": "https://localhost:8080/"
    },
    "collapsed": true,
    "executionInfo": {
     "elapsed": 239,
     "status": "ok",
     "timestamp": 1623140685861,
     "user": {
      "displayName": "Ignacio Soteras",
      "photoUrl": "",
      "userId": "02050793736257155229"
     },
     "user_tz": -120
    },
    "id": "jPtYqxszRc_h",
    "outputId": "b7a82779-98d2-4f55-e8d7-4a9202cc1274"
   },
   "outputs": [
    {
     "name": "stdout",
     "output_type": "stream",
     "text": [
      "Chevrolet                           3643\n",
      "Ford                                2946\n",
      "Dodge                               2360\n",
      "GMC                                 2347\n",
      "Toyota                              1836\n",
      "BMW                                 1680\n",
      "Mercedes-Benz                       1284\n",
      "Nissan                              1253\n",
      "Volkswagen                          1047\n",
      "Mitsubishi                           950\n",
      "Mazda                                915\n",
      "Audi                                 890\n",
      "Porsche                              862\n",
      "Honda                                836\n",
      "Jeep                                 829\n",
      "Pontiac                              784\n",
      "Subaru                               781\n",
      "Volvo                                717\n",
      "Hyundai                              662\n",
      "Chrysler                             641\n",
      "Buick                                537\n",
      "Mercury                              532\n",
      "Suzuki                               512\n",
      "Cadillac                             508\n",
      "Kia                                  493\n",
      "Plymouth                             456\n",
      "Saab                                 410\n",
      "Isuzu                                409\n",
      "Lexus                                397\n",
      "Oldsmobile                           376\n",
      "Infiniti                             345\n",
      "Jaguar                               343\n",
      "MINI                                 320\n",
      "Acura                                302\n",
      "Saturn                               278\n",
      "Lincoln                              273\n",
      "Ferrari                              208\n",
      "Rolls-Royce                          160\n",
      "Eagle                                156\n",
      "Geo                                  144\n",
      "Land Rover                           142\n",
      "Aston Martin                         133\n",
      "Bentley                              116\n",
      "Maserati                             111\n",
      "Lamborghini                          104\n",
      "Scion                                 83\n",
      "Peugeot                               74\n",
      "Daewoo                                67\n",
      "Ram                                   57\n",
      "Roush Performance                     53\n",
      "Lotus                                 53\n",
      "Fiat                                  43\n",
      "Alfa Romeo                            41\n",
      "J.K. Motors                           36\n",
      "Renault                               33\n",
      "Wallace Environmental                 32\n",
      "Maybach                               31\n",
      "American Motors Corporation           22\n",
      "smart                                 20\n",
      "Hummer                                19\n",
      "Daihatsu                              17\n",
      "CX Automotive                         16\n",
      "Merkur                                14\n",
      "Federal Coach                         14\n",
      "Import Trade Services                 13\n",
      "McLaren Automotive                    13\n",
      "Spyker                                13\n",
      "Sterling                              12\n",
      "Saleen                                 9\n",
      "Bugatti                                8\n",
      "Yugo                                   8\n",
      "Genesis                                7\n",
      "Mcevoy Motors                          6\n",
      "Tecstar, LP                            6\n",
      "Bertone                                5\n",
      "VPG                                    5\n",
      "TVR Engineering Ltd                    4\n",
      "Texas Coach Company                    4\n",
      "Panther Car Company Limited            4\n",
      "AM General                             4\n",
      "Autokraft Limited                      4\n",
      "Grumman Olson                          4\n",
      "Vector                                 4\n",
      "Morgan                                 3\n",
      "Evans Automobiles                      3\n",
      "Consulier Industries Inc               3\n",
      "Dabryan Coach Builders Inc             3\n",
      "Dacia                                  3\n",
      "Bitter Gmbh and Co. Kg                 3\n",
      "Dutton                                 3\n",
      "Laforza Automobile Inc                 2\n",
      "Quantum Technologies                   2\n",
      "Pininfarina                            2\n",
      "PAS, Inc                               2\n",
      "Red Shift Ltd.                         2\n",
      "Bill Dovell Motor Car Company          2\n",
      "Panoz Auto-Development                 2\n",
      "Ruf Automobile Gmbh                    2\n",
      "SRT                                    2\n",
      "Pagani                                 2\n",
      "Mobility Ventures LLC                  2\n",
      "CCC Engineering                        2\n",
      "PAS, Inc                               2\n",
      "Vixen Motor Company                    1\n",
      "Volga Associated Automobile            1\n",
      "Aurora Cars Ltd                        1\n",
      "Lambda Control Systems                 1\n",
      "Shelby                                 1\n",
      "Qvale                                  1\n",
      "Excalibur Autos                        1\n",
      "Fisker                                 1\n",
      "General Motors                         1\n",
      "Goldacre                               1\n",
      "Grumman Allied Industries              1\n",
      "Import Foreign Auto Sales Inc          1\n",
      "Mahindra                               1\n",
      "Isis Imports Ltd                       1\n",
      "London Taxi                            1\n",
      "London Coach Co Inc                    1\n",
      "JBA Motorcars, Inc.                    1\n",
      "ASC Incorporated                       1\n",
      "Environmental Rsch and Devp Corp       1\n",
      "Name: Make, dtype: int64\n"
     ]
    }
   ],
   "source": [
    "## Your Code here hint value_counts()\n",
    "\n",
    "vehicles.loc[vehicles[\"Make\"].str.contains('Dutton') == True, \"Make\"] = \"Dutton\"\n",
    "vehicles.loc[vehicles[\"Make\"].str.contains('BMW') == True, \"Make\"] = \"BMW\"\n",
    "vehicles.loc[vehicles[\"Make\"].str.contains('Saleen') == True, \"Make\"] = \"Saleen\"\n",
    "vehicles.loc[vehicles[\"Make\"].str.contains('PAS Inc - GMC') == True, \"Make\"] = \"PAS, Inc \"\n",
    "vehicles.loc[vehicles[\"Make\"].str.contains('Panos') == True, \"Make\"] = \"Panoz Auto-Development\"\n",
    "print(vehicles[\"Make\"].value_counts())"
   ]
  },
  {
   "cell_type": "code",
   "execution_count": 11,
   "metadata": {
    "collapsed": true
   },
   "outputs": [
    {
     "name": "stdout",
     "output_type": "stream",
     "text": [
      "0        522.764706\n",
      "1        683.615385\n",
      "2        555.437500\n",
      "3        683.615385\n",
      "4        555.437500\n",
      "            ...    \n",
      "35947    244.000000\n",
      "35948    243.000000\n",
      "35949    244.000000\n",
      "35950    246.000000\n",
      "35951    255.000000\n",
      "Name: CO2 Emission Grams/Mile, Length: 35952, dtype: float64\n",
      "0    324.831736\n",
      "1    424.779962\n",
      "2    345.133719\n",
      "3    424.779962\n",
      "4    345.133719\n",
      "Name: CO2 Emission Grams/Km, dtype: float64\n"
     ]
    }
   ],
   "source": [
    "print(vehicles.loc[:,\"CO2 Emission Grams/Mile\"])\n",
    "vehicles.loc[:,\"CO2 Emission Grams/Mile\"] = vehicles.loc[:,\"CO2 Emission Grams/Mile\"] / 1.60934\n",
    "vehicles.rename(columns = {'CO2 Emission Grams/Mile':'CO2 Emission Grams/Km'}, inplace = True)\n",
    "print(vehicles['CO2 Emission Grams/Km'].head())"
   ]
  },
  {
   "cell_type": "code",
   "execution_count": 9,
   "metadata": {
    "collapsed": true
   },
   "outputs": [
    {
     "name": "stdout",
     "output_type": "stream",
     "text": [
      "               Make                Model  Year  Engine Displacement  \\\n",
      "0        AM General    DJ Po Vehicle 2WD  1984                  2.5   \n",
      "1        AM General     FJ8c Post Office  1984                  4.2   \n",
      "2        AM General  Post Office DJ5 2WD  1985                  2.5   \n",
      "3        AM General  Post Office DJ8 2WD  1985                  4.2   \n",
      "4  ASC Incorporated                  GNX  1987                  3.8   \n",
      "\n",
      "   Cylinders     Transmission        Drivetrain                Vehicle Class  \\\n",
      "0        4.0  Automatic 3-spd     2-Wheel Drive  Special Purpose Vehicle 2WD   \n",
      "1        6.0  Automatic 3-spd     2-Wheel Drive  Special Purpose Vehicle 2WD   \n",
      "2        4.0  Automatic 3-spd  Rear-Wheel Drive  Special Purpose Vehicle 2WD   \n",
      "3        6.0  Automatic 3-spd  Rear-Wheel Drive  Special Purpose Vehicle 2WD   \n",
      "4        6.0  Automatic 4-spd  Rear-Wheel Drive                 Midsize Cars   \n",
      "\n",
      "  Fuel Type  Fuel Barrels/Year  City MPG  Highway MPG  Combined MPG  \\\n",
      "0   Regular          19.388824        18           17            17   \n",
      "1   Regular          25.354615        13           13            13   \n",
      "2   Regular          20.600625        16           17            16   \n",
      "3   Regular          25.354615        13           13            13   \n",
      "4   Premium          20.600625        14           21            16   \n",
      "\n",
      "   CO2 Emission Grams/Mile  Fuel Cost/Year Transmission (Binary)  \n",
      "0               522.764706            1950             Automatic  \n",
      "1               683.615385            2550             Automatic  \n",
      "2               555.437500            2100             Automatic  \n",
      "3               683.615385            2550             Automatic  \n",
      "4               555.437500            2550             Automatic  \n"
     ]
    }
   ],
   "source": [
    "transmission_binary = []\n",
    "for item in list(vehicles[\"Transmission\"]):\n",
    "    if item.startswith(\"A\") == True:\n",
    "        transmission_binary.append(\"Automatic\")\n",
    "    else:\n",
    "        transmission_binary.append(\"Manual\")\n",
    "vehicles[\"Transmission (Binary)\"] = transmission_binary\n",
    "print(vehicles.head())\n",
    "\n",
    "#you should use vehicles[\"Transmission (Binary)] = list(map(lambda x:\"Auto\" if (x.startswith('Auto'))else \"Manual\",df[\"Transmission\"])"
   ]
  },
  {
   "cell_type": "code",
   "execution_count": 15,
   "metadata": {
    "collapsed": true
   },
   "outputs": [
    {
     "data": {
      "text/plain": [
       "Automatic 4-spd                     10585\n",
       "Manual 5-spd                         7787\n",
       "Automatic (S6)                       2631\n",
       "Automatic 3-spd                      2597\n",
       "Manual 6-spd                         2423\n",
       "Automatic 5-spd                      2171\n",
       "Automatic 6-spd                      1432\n",
       "Manual 4-spd                         1306\n",
       "Automatic (S8)                        960\n",
       "Automatic (S5)                        822\n",
       "Automatic (variable gear ratios)      675\n",
       "Automatic 7-spd                       662\n",
       "Automatic (S7)                        261\n",
       "Auto(AM-S7)                           256\n",
       "Automatic 8-spd                       243\n",
       "Automatic (S4)                        229\n",
       "Auto(AM7)                             157\n",
       "Auto(AV-S6)                           145\n",
       "Auto(AM6)                             110\n",
       "Auto(AM-S6)                            92\n",
       "Automatic 9-spd                        90\n",
       "Manual 3-spd                           74\n",
       "Manual 7-spd                           68\n",
       "Auto(AV-S7)                            63\n",
       "Auto(AV-S8)                            26\n",
       "Automatic (S9)                         26\n",
       "Auto(AM5)                              12\n",
       "Automatic (AV-S6)                       9\n",
       "Auto(AM-S8)                             6\n",
       "Auto(AM8)                               5\n",
       "Automatic (AV)                          4\n",
       "Automatic (A6)                          4\n",
       "Automatic (A1)                          3\n",
       "Manual(M7)                              3\n",
       "Auto (AV)                               2\n",
       "Auto(L4)                                2\n",
       "Auto(L3)                                2\n",
       "Automatic (AM5)                         2\n",
       "Auto(AM-S9)                             1\n",
       "Automatic 6spd                          1\n",
       "Auto (AV-S6)                            1\n",
       "Auto (AV-S8)                            1\n",
       "Auto(A1)                                1\n",
       "Automatic (AM6)                         1\n",
       "Manual 5 spd                            1\n",
       "Name: Transmission, dtype: int64"
      ]
     },
     "execution_count": 15,
     "metadata": {},
     "output_type": "execute_result"
    }
   ],
   "source": [
    "vehicles[\"Transmission\"].value_counts()"
   ]
  },
  {
   "cell_type": "code",
   "execution_count": null,
   "metadata": {
    "collapsed": true
   },
   "outputs": [],
   "source": [
    "# Conversion from Miles per Gallon to Km per liters (1 MPG = 1.60934 / 3.78541 KM per liters)\n",
    "\n",
    "print(vehicles.loc[:,\"City MPG\"])\n",
    "vehicles.loc[:,\"City MPG\"] = vehicles.loc[:,\"City MPG\"] * (1.60934 / 3.78541)\n",
    "vehicles.rename(columns = {'City MPG':'City KM/L'}, inplace = True)\n",
    "\n",
    "print(vehicles.loc[:,\"Highway MPG\"])\n",
    "vehicles.loc[:,\"Highway MPG\"] = vehicles.loc[:,\"Highway MPG\"] * (1.60934 / 3.78541)\n",
    "vehicles.rename(columns = {'Highway MPG':'Highway KM/L'}, inplace = True)\n",
    "\n",
    "print(vehicles.loc[:,\"Combined MPG\"])\n",
    "vehicles.loc[:,\"Combined MPG\"] = vehicles.loc[:,\"Combined MPG\"] * (1.60934 / 3.78541)\n",
    "vehicles.rename(columns = {'Combined MPG':'Combined KM/L'}, inplace = True)\n",
    "\n"
   ]
  },
  {
   "cell_type": "markdown",
   "metadata": {
    "id": "e_r1ZfaxWfaq"
   },
   "source": [
    "Converting Grams/Mile to Grams/Km\n",
    "\n",
    "1 Mile = 1.60934 Km\n",
    "\n",
    "Grams/Mile * Mile/Km -> Grams/Mile * 1 Mile/1.60934Km\n",
    "\n",
    "$$ \\frac{Grams}{Mile} * \\frac{Mile}{Km} $$\n",
    "\n",
    "$$ \\frac{Grams}{Mile} * \\frac{1 Mile}{1.60934Km}  $$"
   ]
  },
  {
   "cell_type": "markdown",
   "metadata": {
    "id": "R-jWHEisa3nF"
   },
   "source": [
    "convert MPG columns to km_per_liter\n",
    "\n",
    "MPG = Miles/Gallon -> Km/Liter\n",
    "\n",
    "1 Mile = 1.60934 Km\n",
    "\n",
    "1 Gallon = 3.78541 Liters\n",
    "\n",
    "$$ \\frac{Miles}{Gallon} -> \\frac{Miles}{Gallon} * \\frac{Km}{Miles} * \\frac{Gallon}{Liters}$$\n",
    "\n",
    "$$ \\frac{Miles}{Gallon} -> \\frac{Miles}{Gallon} * \\frac{1.60934Km}{ 1Miles} * \\frac{1 Gallon}{3.78541 Liters}$$\n",
    "\n",
    "* ( 1.60934 / 3.78541 )\n"
   ]
  },
  {
   "cell_type": "markdown",
   "metadata": {
    "id": "SRZZJAPQ6Fg6"
   },
   "source": [
    "### Gathering insights:\n",
    "\n",
    "- How many car makers are there? How many models? Which car maker has the most cars in the dataset?\n",
    "\n",
    "- When were these cars made? How big is the engine of these cars?\n",
    "\n",
    "- What's the frequency of different transmissions, drivetrains and fuel types?\n",
    "\n",
    "- What's the car that consumes the least/most fuel?"
   ]
  },
  {
   "cell_type": "code",
   "execution_count": null,
   "metadata": {
    "colab": {
     "base_uri": "https://localhost:8080/"
    },
    "collapsed": true,
    "executionInfo": {
     "elapsed": 346,
     "status": "ok",
     "timestamp": 1623143226628,
     "user": {
      "displayName": "Ignacio Soteras",
      "photoUrl": "",
      "userId": "02050793736257155229"
     },
     "user_tz": -120
    },
    "id": "LS-EOV3f6Fg7",
    "outputId": "7244f51d-279e-4a71-ba35-63d2969f5a74"
   },
   "outputs": [],
   "source": [
    "# Your Code here\n",
    "vehicles.nunique()\n",
    "\n",
    "#There are 127 different car makers and 3608 different models in total. The car maker with the most cars is Chevrolet\n",
    "\n",
    "vehicles[\"Year\"].describe()\n",
    "\n",
    "#The cars have been made usually in the year 2000, with the oldest car being from 1984 and the most recent from 2017\n",
    "\n",
    "vehicles[\"Engine Displacement\"].describe()\n",
    "\n",
    "#What's the frequency of different transmissions,drivetrains and fuel types\n",
    "vehicles_slice = vehicles.iloc[:100,:100]\n",
    "ax = vehicles.plot.bar(x='Transmission',y=vehicles_slice,rot=0)\n",
    "\n",
    "#What's the car that consumes the least/most fuel\n",
    "\n",
    "# index corresponding max value\n",
    "i = vehicles['Fuel Barrels/Year'].idxmax()\n",
    "print(i)\n",
    "# display the name corresponding this index\n",
    "print(vehicles['Make'][i] + \" \" + vehicles[\"Model\"][i])"
   ]
  },
  {
   "cell_type": "markdown",
   "metadata": {
    "id": "rcSnpI3I6Fg8"
   },
   "source": [
    "What brand has the worse CO2 Emissions on average?\n",
    "\n",
    "Hint: use the function `sort_values()`"
   ]
  },
  {
   "cell_type": "code",
   "execution_count": 7,
   "metadata": {
    "colab": {
     "base_uri": "https://localhost:8080/",
     "height": 686
    },
    "executionInfo": {
     "elapsed": 270,
     "status": "ok",
     "timestamp": 1623145362738,
     "user": {
      "displayName": "Ignacio Soteras",
      "photoUrl": "",
      "userId": "02050793736257155229"
     },
     "user_tz": -120
    },
    "id": "SV2s8Lm66Fg8",
    "outputId": "ca1f005a-f090-4cec-952f-8e20d3193b46"
   },
   "outputs": [
    {
     "name": "stdout",
     "output_type": "stream",
     "text": [
      "Transmission                          Auto (AV)  Auto (AV-S6)  Auto (AV-S8)  \\\n",
      "Make             Model                                                        \n",
      "AM General       DJ Po Vehicle 2WD          NaN           NaN           NaN   \n",
      "                 FJ8c Post Office           NaN           NaN           NaN   \n",
      "                 Post Office DJ5 2WD        NaN           NaN           NaN   \n",
      "                 Post Office DJ8 2WD        NaN           NaN           NaN   \n",
      "ASC Incorporated GNX                        NaN           NaN           NaN   \n",
      "...                                         ...           ...           ...   \n",
      "Yugo             GV/GVX                     NaN           NaN           NaN   \n",
      "                 Gy/yugo GVX                NaN           NaN           NaN   \n",
      "smart            fortwo cabriolet           NaN           NaN           NaN   \n",
      "                 fortwo convertible         NaN           NaN           NaN   \n",
      "                 fortwo coupe               NaN           NaN           NaN   \n",
      "\n",
      "Transmission                          Auto(A1)  Auto(AM-S6)  Auto(AM-S7)  \\\n",
      "Make             Model                                                     \n",
      "AM General       DJ Po Vehicle 2WD         NaN          NaN          NaN   \n",
      "                 FJ8c Post Office          NaN          NaN          NaN   \n",
      "                 Post Office DJ5 2WD       NaN          NaN          NaN   \n",
      "                 Post Office DJ8 2WD       NaN          NaN          NaN   \n",
      "ASC Incorporated GNX                       NaN          NaN          NaN   \n",
      "...                                        ...          ...          ...   \n",
      "Yugo             GV/GVX                    NaN          NaN          NaN   \n",
      "                 Gy/yugo GVX               NaN          NaN          NaN   \n",
      "smart            fortwo cabriolet          NaN          NaN          NaN   \n",
      "                 fortwo convertible        NaN          NaN          NaN   \n",
      "                 fortwo coupe              NaN          NaN          NaN   \n",
      "\n",
      "Transmission                          Auto(AM-S8)  Auto(AM-S9)   Auto(AM5)  \\\n",
      "Make             Model                                                       \n",
      "AM General       DJ Po Vehicle 2WD            NaN          NaN         NaN   \n",
      "                 FJ8c Post Office             NaN          NaN         NaN   \n",
      "                 Post Office DJ5 2WD          NaN          NaN         NaN   \n",
      "                 Post Office DJ8 2WD          NaN          NaN         NaN   \n",
      "ASC Incorporated GNX                          NaN          NaN         NaN   \n",
      "...                                           ...          ...         ...   \n",
      "Yugo             GV/GVX                       NaN          NaN         NaN   \n",
      "                 Gy/yugo GVX                  NaN          NaN         NaN   \n",
      "smart            fortwo cabriolet             NaN          NaN  245.263889   \n",
      "                 fortwo convertible           NaN          NaN         NaN   \n",
      "                 fortwo coupe                 NaN          NaN  245.263889   \n",
      "\n",
      "Transmission                          Auto(AM6)  ...  Automatic 7-spd  \\\n",
      "Make             Model                           ...                    \n",
      "AM General       DJ Po Vehicle 2WD          NaN  ...              NaN   \n",
      "                 FJ8c Post Office           NaN  ...              NaN   \n",
      "                 Post Office DJ5 2WD        NaN  ...              NaN   \n",
      "                 Post Office DJ8 2WD        NaN  ...              NaN   \n",
      "ASC Incorporated GNX                        NaN  ...              NaN   \n",
      "...                                         ...  ...              ...   \n",
      "Yugo             GV/GVX                     NaN  ...              NaN   \n",
      "                 Gy/yugo GVX                NaN  ...              NaN   \n",
      "smart            fortwo cabriolet         251.0  ...              NaN   \n",
      "                 fortwo convertible         NaN  ...              NaN   \n",
      "                 fortwo coupe             246.0  ...              NaN   \n",
      "\n",
      "Transmission                          Automatic 8-spd  Automatic 9-spd  \\\n",
      "Make             Model                                                   \n",
      "AM General       DJ Po Vehicle 2WD                NaN              NaN   \n",
      "                 FJ8c Post Office                 NaN              NaN   \n",
      "                 Post Office DJ5 2WD              NaN              NaN   \n",
      "                 Post Office DJ8 2WD              NaN              NaN   \n",
      "ASC Incorporated GNX                              NaN              NaN   \n",
      "...                                               ...              ...   \n",
      "Yugo             GV/GVX                           NaN              NaN   \n",
      "                 Gy/yugo GVX                      NaN              NaN   \n",
      "smart            fortwo cabriolet                 NaN              NaN   \n",
      "                 fortwo convertible               NaN              NaN   \n",
      "                 fortwo coupe                     NaN              NaN   \n",
      "\n",
      "Transmission                          Manual 3-spd  Manual 4-spd  \\\n",
      "Make             Model                                             \n",
      "AM General       DJ Po Vehicle 2WD             NaN           NaN   \n",
      "                 FJ8c Post Office              NaN           NaN   \n",
      "                 Post Office DJ5 2WD           NaN           NaN   \n",
      "                 Post Office DJ8 2WD           NaN           NaN   \n",
      "ASC Incorporated GNX                           NaN           NaN   \n",
      "...                                            ...           ...   \n",
      "Yugo             GV/GVX                        NaN    341.807692   \n",
      "                 Gy/yugo GVX                   NaN    355.480000   \n",
      "smart            fortwo cabriolet              NaN           NaN   \n",
      "                 fortwo convertible            NaN           NaN   \n",
      "                 fortwo coupe                  NaN           NaN   \n",
      "\n",
      "Transmission                          Manual 5 spd  Manual 5-spd  \\\n",
      "Make             Model                                             \n",
      "AM General       DJ Po Vehicle 2WD             NaN           NaN   \n",
      "                 FJ8c Post Office              NaN           NaN   \n",
      "                 Post Office DJ5 2WD           NaN           NaN   \n",
      "                 Post Office DJ8 2WD           NaN           NaN   \n",
      "ASC Incorporated GNX                           NaN           NaN   \n",
      "...                                            ...           ...   \n",
      "Yugo             GV/GVX                        NaN        355.48   \n",
      "                 Gy/yugo GVX                   NaN           NaN   \n",
      "smart            fortwo cabriolet              NaN        258.00   \n",
      "                 fortwo convertible            NaN           NaN   \n",
      "                 fortwo coupe                  NaN        255.00   \n",
      "\n",
      "Transmission                          Manual 6-spd  Manual 7-spd  Manual(M7)  \n",
      "Make             Model                                                        \n",
      "AM General       DJ Po Vehicle 2WD             NaN           NaN         NaN  \n",
      "                 FJ8c Post Office              NaN           NaN         NaN  \n",
      "                 Post Office DJ5 2WD           NaN           NaN         NaN  \n",
      "                 Post Office DJ8 2WD           NaN           NaN         NaN  \n",
      "ASC Incorporated GNX                           NaN           NaN         NaN  \n",
      "...                                            ...           ...         ...  \n",
      "Yugo             GV/GVX                        NaN           NaN         NaN  \n",
      "                 Gy/yugo GVX                   NaN           NaN         NaN  \n",
      "smart            fortwo cabriolet              NaN           NaN         NaN  \n",
      "                 fortwo convertible            NaN           NaN         NaN  \n",
      "                 fortwo coupe                  NaN           NaN         NaN  \n",
      "\n",
      "[3676 rows x 45 columns]\n"
     ]
    }
   ],
   "source": [
    "## your Code here\n",
    "#print(vehicles.sort_values(by=\"CO2 Emission Grams/Mile\",ascending=False).groupby(\"Make\").head())\n",
    "\n",
    "table = pd.pivot_table(vehicles,values='CO2 Emission Grams/Mile',index=[\"Make\",\"Model\"],\n",
    "                    columns=[\"Transmission\"], aggfunc=np.mean)\n",
    "print(table)"
   ]
  },
  {
   "cell_type": "markdown",
   "metadata": {
    "id": "2avLmljX6Fg9"
   },
   "source": [
    "Do cars with automatic transmission consume more fuel than cars with manual transmission on average?"
   ]
  },
  {
   "cell_type": "code",
   "execution_count": 10,
   "metadata": {
    "collapsed": true
   },
   "outputs": [
    {
     "name": "stdout",
     "output_type": "stream",
     "text": [
      "                              Year  Engine Displacement  Cylinders  \\\n",
      "Transmission (Binary)                                                \n",
      "Automatic              2002.265747             3.555109   6.046233   \n",
      "Manual                 1997.489367             2.887318   5.179472   \n",
      "\n",
      "                       Fuel Barrels/Year   City MPG  Highway MPG  \\\n",
      "Transmission (Binary)                                              \n",
      "Automatic                      18.043152  17.119638    23.245080   \n",
      "Manual                         16.704904  18.742754    25.204425   \n",
      "\n",
      "                       Combined MPG  CO2 Emission Grams/Mile  Fuel Cost/Year  \n",
      "Transmission (Binary)                                                         \n",
      "Automatic                 19.350926               487.393450     1943.890490  \n",
      "Manual                    21.134025               450.161732     1785.765735  \n"
     ]
    }
   ],
   "source": [
    "## Your Code is here \n",
    "table = vehicles.groupby(\"Transmission (Binary)\").agg(np.mean)\n",
    "print(table)\n",
    "\n",
    "#In average, Automatic cars consume more fuel barrels per year than manual but less combined miles per gallon"
   ]
  }
 ],
 "metadata": {
  "colab": {
   "name": "Pandas_Grouping_Joining_Cars_Structure.ipynb",
   "provenance": []
  },
  "kernelspec": {
   "display_name": "Python 3 (ipykernel)",
   "language": "python",
   "name": "python3"
  },
  "language_info": {
   "codemirror_mode": {
    "name": "ipython",
    "version": 3
   },
   "file_extension": ".py",
   "mimetype": "text/x-python",
   "name": "python",
   "nbconvert_exporter": "python",
   "pygments_lexer": "ipython3",
   "version": "3.9.7"
  },
  "toc": {
   "base_numbering": 1,
   "nav_menu": {},
   "number_sections": true,
   "sideBar": true,
   "skip_h1_title": false,
   "title_cell": "Table of Contents",
   "title_sidebar": "Contents",
   "toc_cell": false,
   "toc_position": {},
   "toc_section_display": true,
   "toc_window_display": false
  },
  "varInspector": {
   "cols": {
    "lenName": 16,
    "lenType": 16,
    "lenVar": 40
   },
   "kernels_config": {
    "python": {
     "delete_cmd_postfix": "",
     "delete_cmd_prefix": "del ",
     "library": "var_list.py",
     "varRefreshCmd": "print(var_dic_list())"
    },
    "r": {
     "delete_cmd_postfix": ") ",
     "delete_cmd_prefix": "rm(",
     "library": "var_list.r",
     "varRefreshCmd": "cat(var_dic_list()) "
    }
   },
   "types_to_exclude": [
    "module",
    "function",
    "builtin_function_or_method",
    "instance",
    "_Feature"
   ],
   "window_display": false
  }
 },
 "nbformat": 4,
 "nbformat_minor": 1
}
