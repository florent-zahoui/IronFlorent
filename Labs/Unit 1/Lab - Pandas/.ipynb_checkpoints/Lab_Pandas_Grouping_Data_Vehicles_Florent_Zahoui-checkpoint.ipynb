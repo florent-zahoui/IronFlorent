{
 "cells": [
  {
   "cell_type": "markdown",
   "metadata": {
    "id": "N1YkD9XI6Fg3"
   },
   "source": [
    "# Pandas: grouping"
   ]
  },
  {
   "cell_type": "code",
   "execution_count": 10,
   "metadata": {
    "executionInfo": {
     "elapsed": 4,
     "status": "ok",
     "timestamp": 1623140082185,
     "user": {
      "displayName": "Ignacio Soteras",
      "photoUrl": "",
      "userId": "02050793736257155229"
     },
     "user_tz": -120
    },
    "id": "jL4kjGt66Fg5"
   },
   "outputs": [],
   "source": [
    "import pandas as pd\n",
    "import numpy as np"
   ]
  },
  {
   "cell_type": "code",
   "execution_count": 11,
   "metadata": {
    "executionInfo": {
     "elapsed": 1346,
     "status": "ok",
     "timestamp": 1623140174431,
     "user": {
      "displayName": "Ignacio Soteras",
      "photoUrl": "",
      "userId": "02050793736257155229"
     },
     "user_tz": -120
    },
    "id": "GVHPs2Qa6Fg5"
   },
   "outputs": [],
   "source": [
    "cars = pd.read_csv(\"data/vehicles_clean.csv\")"
   ]
  },
  {
   "cell_type": "code",
   "execution_count": 12,
   "metadata": {
    "colab": {
     "base_uri": "https://localhost:8080/",
     "height": 477
    },
    "executionInfo": {
     "elapsed": 233,
     "status": "ok",
     "timestamp": 1623140176638,
     "user": {
      "displayName": "Ignacio Soteras",
      "photoUrl": "",
      "userId": "02050793736257155229"
     },
     "user_tz": -120
    },
    "id": "DseSH7qIPmxQ",
    "outputId": "9954b7e3-8541-4e16-cbce-b5828784b91e"
   },
   "outputs": [
    {
     "data": {
      "text/html": [
       "<div>\n",
       "<style scoped>\n",
       "    .dataframe tbody tr th:only-of-type {\n",
       "        vertical-align: middle;\n",
       "    }\n",
       "\n",
       "    .dataframe tbody tr th {\n",
       "        vertical-align: top;\n",
       "    }\n",
       "\n",
       "    .dataframe thead th {\n",
       "        text-align: right;\n",
       "    }\n",
       "</style>\n",
       "<table border=\"1\" class=\"dataframe\">\n",
       "  <thead>\n",
       "    <tr style=\"text-align: right;\">\n",
       "      <th></th>\n",
       "      <th>Unnamed: 0</th>\n",
       "      <th>Make</th>\n",
       "      <th>Model</th>\n",
       "      <th>Year</th>\n",
       "      <th>Engine Displacement</th>\n",
       "      <th>Cylinders</th>\n",
       "      <th>Transmission</th>\n",
       "      <th>Drivetrain</th>\n",
       "      <th>Vehicle Class</th>\n",
       "      <th>Fuel Type</th>\n",
       "      <th>Fuel Barrels/Year</th>\n",
       "      <th>City KM/L</th>\n",
       "      <th>Highway KM/L</th>\n",
       "      <th>Combined KM/L</th>\n",
       "      <th>CO2 Emission Grams/Km</th>\n",
       "      <th>Fuel Cost/Year</th>\n",
       "      <th>Transmission (Binary)</th>\n",
       "    </tr>\n",
       "  </thead>\n",
       "  <tbody>\n",
       "    <tr>\n",
       "      <th>0</th>\n",
       "      <td>0</td>\n",
       "      <td>AM General</td>\n",
       "      <td>DJ Po Vehicle 2WD</td>\n",
       "      <td>1984</td>\n",
       "      <td>2.5</td>\n",
       "      <td>4.0</td>\n",
       "      <td>Automatic 3-spd</td>\n",
       "      <td>2-Wheel Drive</td>\n",
       "      <td>Special Purpose Vehicle 2WD</td>\n",
       "      <td>Regular</td>\n",
       "      <td>19.388824</td>\n",
       "      <td>7.652571</td>\n",
       "      <td>7.227428</td>\n",
       "      <td>7.227428</td>\n",
       "      <td>324.831736</td>\n",
       "      <td>1950</td>\n",
       "      <td>Automatic</td>\n",
       "    </tr>\n",
       "    <tr>\n",
       "      <th>1</th>\n",
       "      <td>1</td>\n",
       "      <td>AM General</td>\n",
       "      <td>FJ8c Post Office</td>\n",
       "      <td>1984</td>\n",
       "      <td>4.2</td>\n",
       "      <td>6.0</td>\n",
       "      <td>Automatic 3-spd</td>\n",
       "      <td>2-Wheel Drive</td>\n",
       "      <td>Special Purpose Vehicle 2WD</td>\n",
       "      <td>Regular</td>\n",
       "      <td>25.354615</td>\n",
       "      <td>5.526857</td>\n",
       "      <td>5.526857</td>\n",
       "      <td>5.526857</td>\n",
       "      <td>424.779962</td>\n",
       "      <td>2550</td>\n",
       "      <td>Automatic</td>\n",
       "    </tr>\n",
       "    <tr>\n",
       "      <th>2</th>\n",
       "      <td>2</td>\n",
       "      <td>AM General</td>\n",
       "      <td>Post Office DJ5 2WD</td>\n",
       "      <td>1985</td>\n",
       "      <td>2.5</td>\n",
       "      <td>4.0</td>\n",
       "      <td>Automatic 3-spd</td>\n",
       "      <td>Rear-Wheel Drive</td>\n",
       "      <td>Special Purpose Vehicle 2WD</td>\n",
       "      <td>Regular</td>\n",
       "      <td>20.600625</td>\n",
       "      <td>6.802286</td>\n",
       "      <td>7.227428</td>\n",
       "      <td>6.802286</td>\n",
       "      <td>345.133719</td>\n",
       "      <td>2100</td>\n",
       "      <td>Automatic</td>\n",
       "    </tr>\n",
       "    <tr>\n",
       "      <th>3</th>\n",
       "      <td>3</td>\n",
       "      <td>AM General</td>\n",
       "      <td>Post Office DJ8 2WD</td>\n",
       "      <td>1985</td>\n",
       "      <td>4.2</td>\n",
       "      <td>6.0</td>\n",
       "      <td>Automatic 3-spd</td>\n",
       "      <td>Rear-Wheel Drive</td>\n",
       "      <td>Special Purpose Vehicle 2WD</td>\n",
       "      <td>Regular</td>\n",
       "      <td>25.354615</td>\n",
       "      <td>5.526857</td>\n",
       "      <td>5.526857</td>\n",
       "      <td>5.526857</td>\n",
       "      <td>424.779962</td>\n",
       "      <td>2550</td>\n",
       "      <td>Automatic</td>\n",
       "    </tr>\n",
       "    <tr>\n",
       "      <th>4</th>\n",
       "      <td>4</td>\n",
       "      <td>ASC Incorporated</td>\n",
       "      <td>GNX</td>\n",
       "      <td>1987</td>\n",
       "      <td>3.8</td>\n",
       "      <td>6.0</td>\n",
       "      <td>Automatic 4-spd</td>\n",
       "      <td>Rear-Wheel Drive</td>\n",
       "      <td>Midsize Cars</td>\n",
       "      <td>Premium</td>\n",
       "      <td>20.600625</td>\n",
       "      <td>5.952000</td>\n",
       "      <td>8.928000</td>\n",
       "      <td>6.802286</td>\n",
       "      <td>345.133719</td>\n",
       "      <td>2550</td>\n",
       "      <td>Automatic</td>\n",
       "    </tr>\n",
       "  </tbody>\n",
       "</table>\n",
       "</div>"
      ],
      "text/plain": [
       "   Unnamed: 0              Make                Model  Year  \\\n",
       "0           0        AM General    DJ Po Vehicle 2WD  1984   \n",
       "1           1        AM General     FJ8c Post Office  1984   \n",
       "2           2        AM General  Post Office DJ5 2WD  1985   \n",
       "3           3        AM General  Post Office DJ8 2WD  1985   \n",
       "4           4  ASC Incorporated                  GNX  1987   \n",
       "\n",
       "   Engine Displacement  Cylinders     Transmission        Drivetrain  \\\n",
       "0                  2.5        4.0  Automatic 3-spd     2-Wheel Drive   \n",
       "1                  4.2        6.0  Automatic 3-spd     2-Wheel Drive   \n",
       "2                  2.5        4.0  Automatic 3-spd  Rear-Wheel Drive   \n",
       "3                  4.2        6.0  Automatic 3-spd  Rear-Wheel Drive   \n",
       "4                  3.8        6.0  Automatic 4-spd  Rear-Wheel Drive   \n",
       "\n",
       "                 Vehicle Class Fuel Type  Fuel Barrels/Year  City KM/L  \\\n",
       "0  Special Purpose Vehicle 2WD   Regular          19.388824   7.652571   \n",
       "1  Special Purpose Vehicle 2WD   Regular          25.354615   5.526857   \n",
       "2  Special Purpose Vehicle 2WD   Regular          20.600625   6.802286   \n",
       "3  Special Purpose Vehicle 2WD   Regular          25.354615   5.526857   \n",
       "4                 Midsize Cars   Premium          20.600625   5.952000   \n",
       "\n",
       "   Highway KM/L  Combined KM/L  CO2 Emission Grams/Km  Fuel Cost/Year  \\\n",
       "0      7.227428       7.227428             324.831736            1950   \n",
       "1      5.526857       5.526857             424.779962            2550   \n",
       "2      7.227428       6.802286             345.133719            2100   \n",
       "3      5.526857       5.526857             424.779962            2550   \n",
       "4      8.928000       6.802286             345.133719            2550   \n",
       "\n",
       "  Transmission (Binary)  \n",
       "0             Automatic  \n",
       "1             Automatic  \n",
       "2             Automatic  \n",
       "3             Automatic  \n",
       "4             Automatic  "
      ]
     },
     "execution_count": 12,
     "metadata": {},
     "output_type": "execute_result"
    }
   ],
   "source": [
    "cars.head()"
   ]
  },
  {
   "cell_type": "markdown",
   "metadata": {
    "id": "7sOaJJT_fSx2"
   },
   "source": [
    "How many Car models? "
   ]
  },
  {
   "cell_type": "code",
   "execution_count": 13,
   "metadata": {
    "colab": {
     "base_uri": "https://localhost:8080/"
    },
    "executionInfo": {
     "elapsed": 249,
     "status": "ok",
     "timestamp": 1623143296731,
     "user": {
      "displayName": "Ignacio Soteras",
      "photoUrl": "",
      "userId": "02050793736257155229"
     },
     "user_tz": -120
    },
    "id": "w_2EOD5efUOS",
    "outputId": "7b643b35-7639-4033-e882-69996dc301d8"
   },
   "outputs": [
    {
     "data": {
      "text/plain": [
       "3608"
      ]
     },
     "execution_count": 13,
     "metadata": {},
     "output_type": "execute_result"
    }
   ],
   "source": [
    "### your code is here\n",
    "len(cars['Model'].unique().tolist())\n",
    "\n",
    "len(cars[\"Model\"].unique())\n"
   ]
  },
  {
   "cell_type": "markdown",
   "metadata": {},
   "source": [
    "group by the data by the Make  using count function"
   ]
  },
  {
   "cell_type": "code",
   "execution_count": 14,
   "metadata": {
    "colab": {
     "base_uri": "https://localhost:8080/",
     "height": 544
    },
    "executionInfo": {
     "elapsed": 233,
     "status": "ok",
     "timestamp": 1623143566155,
     "user": {
      "displayName": "Ignacio Soteras",
      "photoUrl": "",
      "userId": "02050793736257155229"
     },
     "user_tz": -120
    },
    "id": "OTxZXCj_48hR",
    "outputId": "b1d1078e-ab91-475e-e94b-b28619722607"
   },
   "outputs": [
    {
     "data": {
      "text/html": [
       "<div>\n",
       "<style scoped>\n",
       "    .dataframe tbody tr th:only-of-type {\n",
       "        vertical-align: middle;\n",
       "    }\n",
       "\n",
       "    .dataframe tbody tr th {\n",
       "        vertical-align: top;\n",
       "    }\n",
       "\n",
       "    .dataframe thead th {\n",
       "        text-align: right;\n",
       "    }\n",
       "</style>\n",
       "<table border=\"1\" class=\"dataframe\">\n",
       "  <thead>\n",
       "    <tr style=\"text-align: right;\">\n",
       "      <th></th>\n",
       "      <th>Unnamed: 0</th>\n",
       "      <th>Model</th>\n",
       "      <th>Year</th>\n",
       "      <th>Engine Displacement</th>\n",
       "      <th>Cylinders</th>\n",
       "      <th>Transmission</th>\n",
       "      <th>Drivetrain</th>\n",
       "      <th>Vehicle Class</th>\n",
       "      <th>Fuel Type</th>\n",
       "      <th>Fuel Barrels/Year</th>\n",
       "      <th>City KM/L</th>\n",
       "      <th>Highway KM/L</th>\n",
       "      <th>Combined KM/L</th>\n",
       "      <th>CO2 Emission Grams/Km</th>\n",
       "      <th>Fuel Cost/Year</th>\n",
       "      <th>Transmission (Binary)</th>\n",
       "    </tr>\n",
       "    <tr>\n",
       "      <th>Make</th>\n",
       "      <th></th>\n",
       "      <th></th>\n",
       "      <th></th>\n",
       "      <th></th>\n",
       "      <th></th>\n",
       "      <th></th>\n",
       "      <th></th>\n",
       "      <th></th>\n",
       "      <th></th>\n",
       "      <th></th>\n",
       "      <th></th>\n",
       "      <th></th>\n",
       "      <th></th>\n",
       "      <th></th>\n",
       "      <th></th>\n",
       "      <th></th>\n",
       "    </tr>\n",
       "  </thead>\n",
       "  <tbody>\n",
       "    <tr>\n",
       "      <th>AM General</th>\n",
       "      <td>4</td>\n",
       "      <td>4</td>\n",
       "      <td>4</td>\n",
       "      <td>4</td>\n",
       "      <td>4</td>\n",
       "      <td>4</td>\n",
       "      <td>4</td>\n",
       "      <td>4</td>\n",
       "      <td>4</td>\n",
       "      <td>4</td>\n",
       "      <td>4</td>\n",
       "      <td>4</td>\n",
       "      <td>4</td>\n",
       "      <td>4</td>\n",
       "      <td>4</td>\n",
       "      <td>4</td>\n",
       "    </tr>\n",
       "    <tr>\n",
       "      <th>ASC Incorporated</th>\n",
       "      <td>1</td>\n",
       "      <td>1</td>\n",
       "      <td>1</td>\n",
       "      <td>1</td>\n",
       "      <td>1</td>\n",
       "      <td>1</td>\n",
       "      <td>1</td>\n",
       "      <td>1</td>\n",
       "      <td>1</td>\n",
       "      <td>1</td>\n",
       "      <td>1</td>\n",
       "      <td>1</td>\n",
       "      <td>1</td>\n",
       "      <td>1</td>\n",
       "      <td>1</td>\n",
       "      <td>1</td>\n",
       "    </tr>\n",
       "    <tr>\n",
       "      <th>Acura</th>\n",
       "      <td>302</td>\n",
       "      <td>302</td>\n",
       "      <td>302</td>\n",
       "      <td>302</td>\n",
       "      <td>302</td>\n",
       "      <td>302</td>\n",
       "      <td>302</td>\n",
       "      <td>302</td>\n",
       "      <td>302</td>\n",
       "      <td>302</td>\n",
       "      <td>302</td>\n",
       "      <td>302</td>\n",
       "      <td>302</td>\n",
       "      <td>302</td>\n",
       "      <td>302</td>\n",
       "      <td>302</td>\n",
       "    </tr>\n",
       "    <tr>\n",
       "      <th>Alfa Romeo</th>\n",
       "      <td>41</td>\n",
       "      <td>41</td>\n",
       "      <td>41</td>\n",
       "      <td>41</td>\n",
       "      <td>41</td>\n",
       "      <td>41</td>\n",
       "      <td>41</td>\n",
       "      <td>41</td>\n",
       "      <td>41</td>\n",
       "      <td>41</td>\n",
       "      <td>41</td>\n",
       "      <td>41</td>\n",
       "      <td>41</td>\n",
       "      <td>41</td>\n",
       "      <td>41</td>\n",
       "      <td>41</td>\n",
       "    </tr>\n",
       "    <tr>\n",
       "      <th>American Motors Corporation</th>\n",
       "      <td>22</td>\n",
       "      <td>22</td>\n",
       "      <td>22</td>\n",
       "      <td>22</td>\n",
       "      <td>22</td>\n",
       "      <td>22</td>\n",
       "      <td>22</td>\n",
       "      <td>22</td>\n",
       "      <td>22</td>\n",
       "      <td>22</td>\n",
       "      <td>22</td>\n",
       "      <td>22</td>\n",
       "      <td>22</td>\n",
       "      <td>22</td>\n",
       "      <td>22</td>\n",
       "      <td>22</td>\n",
       "    </tr>\n",
       "    <tr>\n",
       "      <th>...</th>\n",
       "      <td>...</td>\n",
       "      <td>...</td>\n",
       "      <td>...</td>\n",
       "      <td>...</td>\n",
       "      <td>...</td>\n",
       "      <td>...</td>\n",
       "      <td>...</td>\n",
       "      <td>...</td>\n",
       "      <td>...</td>\n",
       "      <td>...</td>\n",
       "      <td>...</td>\n",
       "      <td>...</td>\n",
       "      <td>...</td>\n",
       "      <td>...</td>\n",
       "      <td>...</td>\n",
       "      <td>...</td>\n",
       "    </tr>\n",
       "    <tr>\n",
       "      <th>Volkswagen</th>\n",
       "      <td>1047</td>\n",
       "      <td>1047</td>\n",
       "      <td>1047</td>\n",
       "      <td>1047</td>\n",
       "      <td>1047</td>\n",
       "      <td>1047</td>\n",
       "      <td>1047</td>\n",
       "      <td>1047</td>\n",
       "      <td>1047</td>\n",
       "      <td>1047</td>\n",
       "      <td>1047</td>\n",
       "      <td>1047</td>\n",
       "      <td>1047</td>\n",
       "      <td>1047</td>\n",
       "      <td>1047</td>\n",
       "      <td>1047</td>\n",
       "    </tr>\n",
       "    <tr>\n",
       "      <th>Volvo</th>\n",
       "      <td>717</td>\n",
       "      <td>717</td>\n",
       "      <td>717</td>\n",
       "      <td>717</td>\n",
       "      <td>717</td>\n",
       "      <td>717</td>\n",
       "      <td>717</td>\n",
       "      <td>717</td>\n",
       "      <td>717</td>\n",
       "      <td>717</td>\n",
       "      <td>717</td>\n",
       "      <td>717</td>\n",
       "      <td>717</td>\n",
       "      <td>717</td>\n",
       "      <td>717</td>\n",
       "      <td>717</td>\n",
       "    </tr>\n",
       "    <tr>\n",
       "      <th>Wallace Environmental</th>\n",
       "      <td>32</td>\n",
       "      <td>32</td>\n",
       "      <td>32</td>\n",
       "      <td>32</td>\n",
       "      <td>32</td>\n",
       "      <td>32</td>\n",
       "      <td>32</td>\n",
       "      <td>32</td>\n",
       "      <td>32</td>\n",
       "      <td>32</td>\n",
       "      <td>32</td>\n",
       "      <td>32</td>\n",
       "      <td>32</td>\n",
       "      <td>32</td>\n",
       "      <td>32</td>\n",
       "      <td>32</td>\n",
       "    </tr>\n",
       "    <tr>\n",
       "      <th>Yugo</th>\n",
       "      <td>8</td>\n",
       "      <td>8</td>\n",
       "      <td>8</td>\n",
       "      <td>8</td>\n",
       "      <td>8</td>\n",
       "      <td>8</td>\n",
       "      <td>8</td>\n",
       "      <td>8</td>\n",
       "      <td>8</td>\n",
       "      <td>8</td>\n",
       "      <td>8</td>\n",
       "      <td>8</td>\n",
       "      <td>8</td>\n",
       "      <td>8</td>\n",
       "      <td>8</td>\n",
       "      <td>8</td>\n",
       "    </tr>\n",
       "    <tr>\n",
       "      <th>smart</th>\n",
       "      <td>20</td>\n",
       "      <td>20</td>\n",
       "      <td>20</td>\n",
       "      <td>20</td>\n",
       "      <td>20</td>\n",
       "      <td>20</td>\n",
       "      <td>20</td>\n",
       "      <td>20</td>\n",
       "      <td>20</td>\n",
       "      <td>20</td>\n",
       "      <td>20</td>\n",
       "      <td>20</td>\n",
       "      <td>20</td>\n",
       "      <td>20</td>\n",
       "      <td>20</td>\n",
       "      <td>20</td>\n",
       "    </tr>\n",
       "  </tbody>\n",
       "</table>\n",
       "<p>122 rows × 16 columns</p>\n",
       "</div>"
      ],
      "text/plain": [
       "                             Unnamed: 0  Model  Year  Engine Displacement  \\\n",
       "Make                                                                        \n",
       "AM General                            4      4     4                    4   \n",
       "ASC Incorporated                      1      1     1                    1   \n",
       "Acura                               302    302   302                  302   \n",
       "Alfa Romeo                           41     41    41                   41   \n",
       "American Motors Corporation          22     22    22                   22   \n",
       "...                                 ...    ...   ...                  ...   \n",
       "Volkswagen                         1047   1047  1047                 1047   \n",
       "Volvo                               717    717   717                  717   \n",
       "Wallace Environmental                32     32    32                   32   \n",
       "Yugo                                  8      8     8                    8   \n",
       "smart                                20     20    20                   20   \n",
       "\n",
       "                             Cylinders  Transmission  Drivetrain  \\\n",
       "Make                                                               \n",
       "AM General                           4             4           4   \n",
       "ASC Incorporated                     1             1           1   \n",
       "Acura                              302           302         302   \n",
       "Alfa Romeo                          41            41          41   \n",
       "American Motors Corporation         22            22          22   \n",
       "...                                ...           ...         ...   \n",
       "Volkswagen                        1047          1047        1047   \n",
       "Volvo                              717           717         717   \n",
       "Wallace Environmental               32            32          32   \n",
       "Yugo                                 8             8           8   \n",
       "smart                               20            20          20   \n",
       "\n",
       "                             Vehicle Class  Fuel Type  Fuel Barrels/Year  \\\n",
       "Make                                                                       \n",
       "AM General                               4          4                  4   \n",
       "ASC Incorporated                         1          1                  1   \n",
       "Acura                                  302        302                302   \n",
       "Alfa Romeo                              41         41                 41   \n",
       "American Motors Corporation             22         22                 22   \n",
       "...                                    ...        ...                ...   \n",
       "Volkswagen                            1047       1047               1047   \n",
       "Volvo                                  717        717                717   \n",
       "Wallace Environmental                   32         32                 32   \n",
       "Yugo                                     8          8                  8   \n",
       "smart                                   20         20                 20   \n",
       "\n",
       "                             City KM/L  Highway KM/L  Combined KM/L  \\\n",
       "Make                                                                  \n",
       "AM General                           4             4              4   \n",
       "ASC Incorporated                     1             1              1   \n",
       "Acura                              302           302            302   \n",
       "Alfa Romeo                          41            41             41   \n",
       "American Motors Corporation         22            22             22   \n",
       "...                                ...           ...            ...   \n",
       "Volkswagen                        1047          1047           1047   \n",
       "Volvo                              717           717            717   \n",
       "Wallace Environmental               32            32             32   \n",
       "Yugo                                 8             8              8   \n",
       "smart                               20            20             20   \n",
       "\n",
       "                             CO2 Emission Grams/Km  Fuel Cost/Year  \\\n",
       "Make                                                                 \n",
       "AM General                                       4               4   \n",
       "ASC Incorporated                                 1               1   \n",
       "Acura                                          302             302   \n",
       "Alfa Romeo                                      41              41   \n",
       "American Motors Corporation                     22              22   \n",
       "...                                            ...             ...   \n",
       "Volkswagen                                    1047            1047   \n",
       "Volvo                                          717             717   \n",
       "Wallace Environmental                           32              32   \n",
       "Yugo                                             8               8   \n",
       "smart                                           20              20   \n",
       "\n",
       "                             Transmission (Binary)  \n",
       "Make                                                \n",
       "AM General                                       4  \n",
       "ASC Incorporated                                 1  \n",
       "Acura                                          302  \n",
       "Alfa Romeo                                      41  \n",
       "American Motors Corporation                     22  \n",
       "...                                            ...  \n",
       "Volkswagen                                    1047  \n",
       "Volvo                                          717  \n",
       "Wallace Environmental                           32  \n",
       "Yugo                                             8  \n",
       "smart                                           20  \n",
       "\n",
       "[122 rows x 16 columns]"
      ]
     },
     "execution_count": 14,
     "metadata": {},
     "output_type": "execute_result"
    }
   ],
   "source": [
    "### your code us here\n",
    "cars.groupby([\"Make\"]).count()"
   ]
  },
  {
   "cell_type": "markdown",
   "metadata": {
    "id": "lJMDlBOM6Fg7"
   },
   "source": [
    "What brand has the most cars?"
   ]
  },
  {
   "cell_type": "code",
   "execution_count": 15,
   "metadata": {
    "id": "cbk5R7HL6Fg8"
   },
   "outputs": [
    {
     "data": {
      "text/html": [
       "<div>\n",
       "<style scoped>\n",
       "    .dataframe tbody tr th:only-of-type {\n",
       "        vertical-align: middle;\n",
       "    }\n",
       "\n",
       "    .dataframe tbody tr th {\n",
       "        vertical-align: top;\n",
       "    }\n",
       "\n",
       "    .dataframe thead th {\n",
       "        text-align: right;\n",
       "    }\n",
       "</style>\n",
       "<table border=\"1\" class=\"dataframe\">\n",
       "  <thead>\n",
       "    <tr style=\"text-align: right;\">\n",
       "      <th></th>\n",
       "      <th>Unnamed: 0</th>\n",
       "      <th>Model</th>\n",
       "      <th>Year</th>\n",
       "      <th>Engine Displacement</th>\n",
       "      <th>Cylinders</th>\n",
       "      <th>Transmission</th>\n",
       "      <th>Drivetrain</th>\n",
       "      <th>Vehicle Class</th>\n",
       "      <th>Fuel Type</th>\n",
       "      <th>Fuel Barrels/Year</th>\n",
       "      <th>City KM/L</th>\n",
       "      <th>Highway KM/L</th>\n",
       "      <th>Combined KM/L</th>\n",
       "      <th>CO2 Emission Grams/Km</th>\n",
       "      <th>Fuel Cost/Year</th>\n",
       "      <th>Transmission (Binary)</th>\n",
       "    </tr>\n",
       "    <tr>\n",
       "      <th>Make</th>\n",
       "      <th></th>\n",
       "      <th></th>\n",
       "      <th></th>\n",
       "      <th></th>\n",
       "      <th></th>\n",
       "      <th></th>\n",
       "      <th></th>\n",
       "      <th></th>\n",
       "      <th></th>\n",
       "      <th></th>\n",
       "      <th></th>\n",
       "      <th></th>\n",
       "      <th></th>\n",
       "      <th></th>\n",
       "      <th></th>\n",
       "      <th></th>\n",
       "    </tr>\n",
       "  </thead>\n",
       "  <tbody>\n",
       "    <tr>\n",
       "      <th>Chevrolet</th>\n",
       "      <td>3643</td>\n",
       "      <td>3643</td>\n",
       "      <td>3643</td>\n",
       "      <td>3643</td>\n",
       "      <td>3643</td>\n",
       "      <td>3643</td>\n",
       "      <td>3643</td>\n",
       "      <td>3643</td>\n",
       "      <td>3643</td>\n",
       "      <td>3643</td>\n",
       "      <td>3643</td>\n",
       "      <td>3643</td>\n",
       "      <td>3643</td>\n",
       "      <td>3643</td>\n",
       "      <td>3643</td>\n",
       "      <td>3643</td>\n",
       "    </tr>\n",
       "    <tr>\n",
       "      <th>Ford</th>\n",
       "      <td>2946</td>\n",
       "      <td>2946</td>\n",
       "      <td>2946</td>\n",
       "      <td>2946</td>\n",
       "      <td>2946</td>\n",
       "      <td>2946</td>\n",
       "      <td>2946</td>\n",
       "      <td>2946</td>\n",
       "      <td>2946</td>\n",
       "      <td>2946</td>\n",
       "      <td>2946</td>\n",
       "      <td>2946</td>\n",
       "      <td>2946</td>\n",
       "      <td>2946</td>\n",
       "      <td>2946</td>\n",
       "      <td>2946</td>\n",
       "    </tr>\n",
       "    <tr>\n",
       "      <th>Dodge</th>\n",
       "      <td>2360</td>\n",
       "      <td>2360</td>\n",
       "      <td>2360</td>\n",
       "      <td>2360</td>\n",
       "      <td>2360</td>\n",
       "      <td>2360</td>\n",
       "      <td>2360</td>\n",
       "      <td>2360</td>\n",
       "      <td>2360</td>\n",
       "      <td>2360</td>\n",
       "      <td>2360</td>\n",
       "      <td>2360</td>\n",
       "      <td>2360</td>\n",
       "      <td>2360</td>\n",
       "      <td>2360</td>\n",
       "      <td>2360</td>\n",
       "    </tr>\n",
       "    <tr>\n",
       "      <th>GMC</th>\n",
       "      <td>2347</td>\n",
       "      <td>2347</td>\n",
       "      <td>2347</td>\n",
       "      <td>2347</td>\n",
       "      <td>2347</td>\n",
       "      <td>2347</td>\n",
       "      <td>2347</td>\n",
       "      <td>2347</td>\n",
       "      <td>2347</td>\n",
       "      <td>2347</td>\n",
       "      <td>2347</td>\n",
       "      <td>2347</td>\n",
       "      <td>2347</td>\n",
       "      <td>2347</td>\n",
       "      <td>2347</td>\n",
       "      <td>2347</td>\n",
       "    </tr>\n",
       "    <tr>\n",
       "      <th>Toyota</th>\n",
       "      <td>1836</td>\n",
       "      <td>1836</td>\n",
       "      <td>1836</td>\n",
       "      <td>1836</td>\n",
       "      <td>1836</td>\n",
       "      <td>1836</td>\n",
       "      <td>1836</td>\n",
       "      <td>1836</td>\n",
       "      <td>1836</td>\n",
       "      <td>1836</td>\n",
       "      <td>1836</td>\n",
       "      <td>1836</td>\n",
       "      <td>1836</td>\n",
       "      <td>1836</td>\n",
       "      <td>1836</td>\n",
       "      <td>1836</td>\n",
       "    </tr>\n",
       "    <tr>\n",
       "      <th>...</th>\n",
       "      <td>...</td>\n",
       "      <td>...</td>\n",
       "      <td>...</td>\n",
       "      <td>...</td>\n",
       "      <td>...</td>\n",
       "      <td>...</td>\n",
       "      <td>...</td>\n",
       "      <td>...</td>\n",
       "      <td>...</td>\n",
       "      <td>...</td>\n",
       "      <td>...</td>\n",
       "      <td>...</td>\n",
       "      <td>...</td>\n",
       "      <td>...</td>\n",
       "      <td>...</td>\n",
       "      <td>...</td>\n",
       "    </tr>\n",
       "    <tr>\n",
       "      <th>London Taxi</th>\n",
       "      <td>1</td>\n",
       "      <td>1</td>\n",
       "      <td>1</td>\n",
       "      <td>1</td>\n",
       "      <td>1</td>\n",
       "      <td>1</td>\n",
       "      <td>1</td>\n",
       "      <td>1</td>\n",
       "      <td>1</td>\n",
       "      <td>1</td>\n",
       "      <td>1</td>\n",
       "      <td>1</td>\n",
       "      <td>1</td>\n",
       "      <td>1</td>\n",
       "      <td>1</td>\n",
       "      <td>1</td>\n",
       "    </tr>\n",
       "    <tr>\n",
       "      <th>London Coach Co Inc</th>\n",
       "      <td>1</td>\n",
       "      <td>1</td>\n",
       "      <td>1</td>\n",
       "      <td>1</td>\n",
       "      <td>1</td>\n",
       "      <td>1</td>\n",
       "      <td>1</td>\n",
       "      <td>1</td>\n",
       "      <td>1</td>\n",
       "      <td>1</td>\n",
       "      <td>1</td>\n",
       "      <td>1</td>\n",
       "      <td>1</td>\n",
       "      <td>1</td>\n",
       "      <td>1</td>\n",
       "      <td>1</td>\n",
       "    </tr>\n",
       "    <tr>\n",
       "      <th>JBA Motorcars, Inc.</th>\n",
       "      <td>1</td>\n",
       "      <td>1</td>\n",
       "      <td>1</td>\n",
       "      <td>1</td>\n",
       "      <td>1</td>\n",
       "      <td>1</td>\n",
       "      <td>1</td>\n",
       "      <td>1</td>\n",
       "      <td>1</td>\n",
       "      <td>1</td>\n",
       "      <td>1</td>\n",
       "      <td>1</td>\n",
       "      <td>1</td>\n",
       "      <td>1</td>\n",
       "      <td>1</td>\n",
       "      <td>1</td>\n",
       "    </tr>\n",
       "    <tr>\n",
       "      <th>ASC Incorporated</th>\n",
       "      <td>1</td>\n",
       "      <td>1</td>\n",
       "      <td>1</td>\n",
       "      <td>1</td>\n",
       "      <td>1</td>\n",
       "      <td>1</td>\n",
       "      <td>1</td>\n",
       "      <td>1</td>\n",
       "      <td>1</td>\n",
       "      <td>1</td>\n",
       "      <td>1</td>\n",
       "      <td>1</td>\n",
       "      <td>1</td>\n",
       "      <td>1</td>\n",
       "      <td>1</td>\n",
       "      <td>1</td>\n",
       "    </tr>\n",
       "    <tr>\n",
       "      <th>Environmental Rsch and Devp Corp</th>\n",
       "      <td>1</td>\n",
       "      <td>1</td>\n",
       "      <td>1</td>\n",
       "      <td>1</td>\n",
       "      <td>1</td>\n",
       "      <td>1</td>\n",
       "      <td>1</td>\n",
       "      <td>1</td>\n",
       "      <td>1</td>\n",
       "      <td>1</td>\n",
       "      <td>1</td>\n",
       "      <td>1</td>\n",
       "      <td>1</td>\n",
       "      <td>1</td>\n",
       "      <td>1</td>\n",
       "      <td>1</td>\n",
       "    </tr>\n",
       "  </tbody>\n",
       "</table>\n",
       "<p>122 rows × 16 columns</p>\n",
       "</div>"
      ],
      "text/plain": [
       "                                  Unnamed: 0  Model  Year  \\\n",
       "Make                                                        \n",
       "Chevrolet                               3643   3643  3643   \n",
       "Ford                                    2946   2946  2946   \n",
       "Dodge                                   2360   2360  2360   \n",
       "GMC                                     2347   2347  2347   \n",
       "Toyota                                  1836   1836  1836   \n",
       "...                                      ...    ...   ...   \n",
       "London Taxi                                1      1     1   \n",
       "London Coach Co Inc                        1      1     1   \n",
       "JBA Motorcars, Inc.                        1      1     1   \n",
       "ASC Incorporated                           1      1     1   \n",
       "Environmental Rsch and Devp Corp           1      1     1   \n",
       "\n",
       "                                  Engine Displacement  Cylinders  \\\n",
       "Make                                                               \n",
       "Chevrolet                                        3643       3643   \n",
       "Ford                                             2946       2946   \n",
       "Dodge                                            2360       2360   \n",
       "GMC                                              2347       2347   \n",
       "Toyota                                           1836       1836   \n",
       "...                                               ...        ...   \n",
       "London Taxi                                         1          1   \n",
       "London Coach Co Inc                                 1          1   \n",
       "JBA Motorcars, Inc.                                 1          1   \n",
       "ASC Incorporated                                    1          1   \n",
       "Environmental Rsch and Devp Corp                    1          1   \n",
       "\n",
       "                                  Transmission  Drivetrain  Vehicle Class  \\\n",
       "Make                                                                        \n",
       "Chevrolet                                 3643        3643           3643   \n",
       "Ford                                      2946        2946           2946   \n",
       "Dodge                                     2360        2360           2360   \n",
       "GMC                                       2347        2347           2347   \n",
       "Toyota                                    1836        1836           1836   \n",
       "...                                        ...         ...            ...   \n",
       "London Taxi                                  1           1              1   \n",
       "London Coach Co Inc                          1           1              1   \n",
       "JBA Motorcars, Inc.                          1           1              1   \n",
       "ASC Incorporated                             1           1              1   \n",
       "Environmental Rsch and Devp Corp             1           1              1   \n",
       "\n",
       "                                  Fuel Type  Fuel Barrels/Year  City KM/L  \\\n",
       "Make                                                                        \n",
       "Chevrolet                              3643               3643       3643   \n",
       "Ford                                   2946               2946       2946   \n",
       "Dodge                                  2360               2360       2360   \n",
       "GMC                                    2347               2347       2347   \n",
       "Toyota                                 1836               1836       1836   \n",
       "...                                     ...                ...        ...   \n",
       "London Taxi                               1                  1          1   \n",
       "London Coach Co Inc                       1                  1          1   \n",
       "JBA Motorcars, Inc.                       1                  1          1   \n",
       "ASC Incorporated                          1                  1          1   \n",
       "Environmental Rsch and Devp Corp          1                  1          1   \n",
       "\n",
       "                                  Highway KM/L  Combined KM/L  \\\n",
       "Make                                                            \n",
       "Chevrolet                                 3643           3643   \n",
       "Ford                                      2946           2946   \n",
       "Dodge                                     2360           2360   \n",
       "GMC                                       2347           2347   \n",
       "Toyota                                    1836           1836   \n",
       "...                                        ...            ...   \n",
       "London Taxi                                  1              1   \n",
       "London Coach Co Inc                          1              1   \n",
       "JBA Motorcars, Inc.                          1              1   \n",
       "ASC Incorporated                             1              1   \n",
       "Environmental Rsch and Devp Corp             1              1   \n",
       "\n",
       "                                  CO2 Emission Grams/Km  Fuel Cost/Year  \\\n",
       "Make                                                                      \n",
       "Chevrolet                                          3643            3643   \n",
       "Ford                                               2946            2946   \n",
       "Dodge                                              2360            2360   \n",
       "GMC                                                2347            2347   \n",
       "Toyota                                             1836            1836   \n",
       "...                                                 ...             ...   \n",
       "London Taxi                                           1               1   \n",
       "London Coach Co Inc                                   1               1   \n",
       "JBA Motorcars, Inc.                                   1               1   \n",
       "ASC Incorporated                                      1               1   \n",
       "Environmental Rsch and Devp Corp                      1               1   \n",
       "\n",
       "                                  Transmission (Binary)  \n",
       "Make                                                     \n",
       "Chevrolet                                          3643  \n",
       "Ford                                               2946  \n",
       "Dodge                                              2360  \n",
       "GMC                                                2347  \n",
       "Toyota                                             1836  \n",
       "...                                                 ...  \n",
       "London Taxi                                           1  \n",
       "London Coach Co Inc                                   1  \n",
       "JBA Motorcars, Inc.                                   1  \n",
       "ASC Incorporated                                      1  \n",
       "Environmental Rsch and Devp Corp                      1  \n",
       "\n",
       "[122 rows x 16 columns]"
      ]
     },
     "execution_count": 15,
     "metadata": {},
     "output_type": "execute_result"
    }
   ],
   "source": [
    "### your code us here\n",
    "cars_grouped = cars.groupby([\"Make\"]).count()\n",
    "\n",
    "cars_grouped.sort_values(by=\"Model\",ascending=False)"
   ]
  },
  {
   "cell_type": "markdown",
   "metadata": {},
   "source": [
    "<b>show the average CO2_Emission_Grams/Km  by Brand"
   ]
  },
  {
   "cell_type": "code",
   "execution_count": 16,
   "metadata": {
    "colab": {
     "base_uri": "https://localhost:8080/",
     "height": 437
    },
    "executionInfo": {
     "elapsed": 229,
     "status": "ok",
     "timestamp": 1623145437447,
     "user": {
      "displayName": "Ignacio Soteras",
      "photoUrl": "",
      "userId": "02050793736257155229"
     },
     "user_tz": -120
    },
    "id": "QQ40-Xvcq9Rr",
    "outputId": "517ea5be-6749-4170-c56b-ec950df6f45f"
   },
   "outputs": [
    {
     "data": {
      "text/plain": [
       "Make\n",
       "AM General                     379.881345\n",
       "ASC Incorporated               345.133719\n",
       "Acura                          262.583000\n",
       "Alfa Romeo                     288.287195\n",
       "American Motors Corporation    314.264744\n",
       "                                  ...    \n",
       "Volkswagen                     244.038998\n",
       "Volvo                          270.796572\n",
       "Wallace Environmental          408.857065\n",
       "Yugo                           221.251107\n",
       "smart                          153.498052\n",
       "Name: CO2 Emission Grams/Km, Length: 122, dtype: float64"
      ]
     },
     "execution_count": 16,
     "metadata": {},
     "output_type": "execute_result"
    }
   ],
   "source": [
    "### your code us here\n",
    "\n",
    "cars.groupby([\"Make\"])[\"CO2 Emission Grams/Km\"].mean()"
   ]
  },
  {
   "cell_type": "markdown",
   "metadata": {},
   "source": [
    "<b>show the average CO2_Emission_Grams/Km  by Brand ... sorted"
   ]
  },
  {
   "cell_type": "code",
   "execution_count": 17,
   "metadata": {
    "colab": {
     "base_uri": "https://localhost:8080/",
     "height": 437
    },
    "executionInfo": {
     "elapsed": 271,
     "status": "ok",
     "timestamp": 1623145508527,
     "user": {
      "displayName": "Ignacio Soteras",
      "photoUrl": "",
      "userId": "02050793736257155229"
     },
     "user_tz": -120
    },
    "id": "HmkHNbaIAlxR",
    "outputId": "90c966a3-f1cb-4cea-94da-7e3c4654d996"
   },
   "outputs": [
    {
     "data": {
      "text/plain": [
       "Make\n",
       "Vector                    651.919248\n",
       "Bugatti                   542.497235\n",
       "Laforza Automobile Inc    502.012683\n",
       "Dutton                    476.419879\n",
       "Rolls-Royce               475.397772\n",
       "                             ...    \n",
       "MINI                      194.935105\n",
       "Daihatsu                  192.742404\n",
       "Fiat                      189.311494\n",
       "smart                     153.498052\n",
       "Fisker                    105.011992\n",
       "Name: CO2 Emission Grams/Km, Length: 122, dtype: float64"
      ]
     },
     "execution_count": 17,
     "metadata": {},
     "output_type": "execute_result"
    }
   ],
   "source": [
    "### your code us here\n",
    "(cars.groupby([\"Make\"])[\"CO2 Emission Grams/Km\"].mean()).sort_values(ascending=False)"
   ]
  },
  {
   "cell_type": "markdown",
   "metadata": {
    "id": "PQDBkdTO6Fg8"
   },
   "source": [
    "Use `pd.cut` or `pd.qcut` to create 4 groups (bins) of cars, by Year. We want to explore how cars have evolved decade by decade."
   ]
  },
  {
   "cell_type": "code",
   "execution_count": 18,
   "metadata": {
    "colab": {
     "base_uri": "https://localhost:8080/"
    },
    "executionInfo": {
     "elapsed": 234,
     "status": "ok",
     "timestamp": 1623145662903,
     "user": {
      "displayName": "Ignacio Soteras",
      "photoUrl": "",
      "userId": "02050793736257155229"
     },
     "user_tz": -120
    },
    "id": "C70ymFKC6Fg8",
    "outputId": "b951d08b-a80a-4e63-ea09-8940423f97ee"
   },
   "outputs": [],
   "source": [
    "cars['Year'].describe()\n",
    "cars[\"Decade\"] = pd.cut(cars[\"Year\"],bins=[1980,1989,1999,2009,2019], labels=[\"80s\",\"90s\",\"00s\",\"10s\"], retbins=False, precision=3, duplicates='raise')"
   ]
  },
  {
   "cell_type": "code",
   "execution_count": 19,
   "metadata": {
    "executionInfo": {
     "elapsed": 229,
     "status": "ok",
     "timestamp": 1623145807038,
     "user": {
      "displayName": "Ignacio Soteras",
      "photoUrl": "",
      "userId": "02050793736257155229"
     },
     "user_tz": -120
    },
    "id": "rhEot_x1rsMg"
   },
   "outputs": [
    {
     "data": {
      "text/plain": [
       "Decade\n",
       "80s     6858\n",
       "90s     9410\n",
       "00s    10585\n",
       "10s     9099\n",
       "Name: Decade, dtype: int64"
      ]
     },
     "execution_count": 19,
     "metadata": {},
     "output_type": "execute_result"
    }
   ],
   "source": [
    "## your code here\n",
    "\n",
    "cars.groupby(\"Decade\")[\"Decade\"].count()"
   ]
  },
  {
   "cell_type": "markdown",
   "metadata": {
    "id": "fmGwGGya6Fg8"
   },
   "source": [
    "### Did cars consume more gas in the eighties?"
   ]
  },
  {
   "cell_type": "markdown",
   "metadata": {
    "colab": {
     "base_uri": "https://localhost:8080/",
     "height": 198
    },
    "executionInfo": {
     "elapsed": 256,
     "status": "ok",
     "timestamp": 1623146140731,
     "user": {
      "displayName": "Ignacio Soteras",
      "photoUrl": "",
      "userId": "02050793736257155229"
     },
     "user_tz": -120
    },
    "id": "_sOkpVbvwulT",
    "outputId": "0d79ee50-8241-4cc6-8e2d-b3bec5770bb6"
   },
   "source": [
    "show the average City_Km/Liter by year_range"
   ]
  },
  {
   "cell_type": "code",
   "execution_count": 20,
   "metadata": {},
   "outputs": [
    {
     "data": {
      "text/plain": [
       "Decade\n",
       "80s    7.366539\n",
       "90s    7.207911\n",
       "00s    7.156940\n",
       "10s    8.310167\n",
       "Name: City KM/L, dtype: float64"
      ]
     },
     "execution_count": 20,
     "metadata": {},
     "output_type": "execute_result"
    }
   ],
   "source": [
    "### your code is here\n",
    "cars.groupby(\"Decade\")[\"City KM/L\"].mean()"
   ]
  },
  {
   "cell_type": "markdown",
   "metadata": {
    "id": "ZZ96MZrR6Fg9"
   },
   "source": [
    "Which brands are more environment friendly?"
   ]
  },
  {
   "cell_type": "code",
   "execution_count": 21,
   "metadata": {
    "colab": {
     "base_uri": "https://localhost:8080/",
     "height": 437
    },
    "executionInfo": {
     "elapsed": 10,
     "status": "ok",
     "timestamp": 1623146393112,
     "user": {
      "displayName": "Ignacio Soteras",
      "photoUrl": "",
      "userId": "02050793736257155229"
     },
     "user_tz": -120
    },
    "id": "7qSlKjqF6Fg9",
    "outputId": "85d66c6b-ac7a-4585-b8af-aad43c4718a7"
   },
   "outputs": [
    {
     "name": "stdout",
     "output_type": "stream",
     "text": [
      "Decade  Make                       \n",
      "10s     Fisker                         105.011992\n",
      "00s     smart                          153.392764\n",
      "10s     smart                          153.524374\n",
      "80s     Daihatsu                       170.046613\n",
      "10s     Fiat                           189.311494\n",
      "                                          ...    \n",
      "        Vector                                NaN\n",
      "        Vixen Motor Company                   NaN\n",
      "        Volga Associated Automobile           NaN\n",
      "        Wallace Environmental                 NaN\n",
      "        Yugo                                  NaN\n",
      "Name: CO2 Emission Grams/Km, Length: 488, dtype: float64\n"
     ]
    }
   ],
   "source": [
    "### your code is here\n",
    "print((cars.groupby([\"Decade\",\"Make\"])[\"CO2 Emission Grams/Km\"].mean()).sort_values(ascending=True))"
   ]
  },
  {
   "cell_type": "markdown",
   "metadata": {
    "id": "dGHYkM8q6Fg9"
   },
   "source": [
    "Does the drivetrain affect fuel consumption?"
   ]
  },
  {
   "cell_type": "code",
   "execution_count": 139,
   "metadata": {
    "colab": {
     "base_uri": "https://localhost:8080/",
     "height": 318
    },
    "executionInfo": {
     "elapsed": 245,
     "status": "ok",
     "timestamp": 1623146457215,
     "user": {
      "displayName": "Ignacio Soteras",
      "photoUrl": "",
      "userId": "02050793736257155229"
     },
     "user_tz": -120
    },
    "id": "HVpCAkXk6Fg9",
    "outputId": "da0f2f40-4193-40cf-ad1d-60988b00446c",
    "scrolled": true
   },
   "outputs": [
    {
     "data": {
      "text/html": [
       "<div>\n",
       "<style scoped>\n",
       "    .dataframe tbody tr th:only-of-type {\n",
       "        vertical-align: middle;\n",
       "    }\n",
       "\n",
       "    .dataframe tbody tr th {\n",
       "        vertical-align: top;\n",
       "    }\n",
       "\n",
       "    .dataframe thead th {\n",
       "        text-align: right;\n",
       "    }\n",
       "</style>\n",
       "<table border=\"1\" class=\"dataframe\">\n",
       "  <thead>\n",
       "    <tr style=\"text-align: right;\">\n",
       "      <th></th>\n",
       "      <th>Highway_Km/Liter</th>\n",
       "      <th>City_Km/Liter</th>\n",
       "    </tr>\n",
       "    <tr>\n",
       "      <th>Drivetrain</th>\n",
       "      <th></th>\n",
       "      <th></th>\n",
       "    </tr>\n",
       "  </thead>\n",
       "  <tbody>\n",
       "    <tr>\n",
       "      <th>2-Wheel Drive, Front</th>\n",
       "      <td>14.029714</td>\n",
       "      <td>10.628571</td>\n",
       "    </tr>\n",
       "    <tr>\n",
       "      <th>Front-Wheel Drive</th>\n",
       "      <td>12.166210</td>\n",
       "      <td>9.002214</td>\n",
       "    </tr>\n",
       "    <tr>\n",
       "      <th>All-Wheel Drive</th>\n",
       "      <td>10.882531</td>\n",
       "      <td>7.785598</td>\n",
       "    </tr>\n",
       "    <tr>\n",
       "      <th>4-Wheel Drive</th>\n",
       "      <td>9.668584</td>\n",
       "      <td>7.190861</td>\n",
       "    </tr>\n",
       "    <tr>\n",
       "      <th>2-Wheel Drive</th>\n",
       "      <td>8.222444</td>\n",
       "      <td>6.642480</td>\n",
       "    </tr>\n",
       "    <tr>\n",
       "      <th>Rear-Wheel Drive</th>\n",
       "      <td>9.023946</td>\n",
       "      <td>6.556574</td>\n",
       "    </tr>\n",
       "    <tr>\n",
       "      <th>4-Wheel or All-Wheel Drive</th>\n",
       "      <td>8.347130</td>\n",
       "      <td>6.392049</td>\n",
       "    </tr>\n",
       "    <tr>\n",
       "      <th>Part-time 4-Wheel Drive</th>\n",
       "      <td>8.115385</td>\n",
       "      <td>6.215696</td>\n",
       "    </tr>\n",
       "  </tbody>\n",
       "</table>\n",
       "</div>"
      ],
      "text/plain": [
       "                            Highway_Km/Liter  City_Km/Liter\n",
       "Drivetrain                                                 \n",
       "2-Wheel Drive, Front               14.029714      10.628571\n",
       "Front-Wheel Drive                  12.166210       9.002214\n",
       "All-Wheel Drive                    10.882531       7.785598\n",
       "4-Wheel Drive                       9.668584       7.190861\n",
       "2-Wheel Drive                       8.222444       6.642480\n",
       "Rear-Wheel Drive                    9.023946       6.556574\n",
       "4-Wheel or All-Wheel Drive          8.347130       6.392049\n",
       "Part-time 4-Wheel Drive             8.115385       6.215696"
      ]
     },
     "execution_count": 139,
     "metadata": {},
     "output_type": "execute_result"
    }
   ],
   "source": [
    "## Your Code here"
   ]
  },
  {
   "cell_type": "code",
   "execution_count": 22,
   "metadata": {},
   "outputs": [
    {
     "name": "stderr",
     "output_type": "stream",
     "text": [
      "C:\\Users\\Flo\\AppData\\Local\\Temp/ipykernel_11780/3943737181.py:1: FutureWarning: Indexing with multiple keys (implicitly converted to a tuple of keys) will be deprecated, use a list instead.\n",
      "  (cars.groupby([\"Drivetrain\"])[\"Highway KM/L\",\"City KM/L\"].mean()).sort_values(by=[\"Highway KM/L\",\"City KM/L\"],ascending=False)\n"
     ]
    },
    {
     "data": {
      "text/html": [
       "<div>\n",
       "<style scoped>\n",
       "    .dataframe tbody tr th:only-of-type {\n",
       "        vertical-align: middle;\n",
       "    }\n",
       "\n",
       "    .dataframe tbody tr th {\n",
       "        vertical-align: top;\n",
       "    }\n",
       "\n",
       "    .dataframe thead th {\n",
       "        text-align: right;\n",
       "    }\n",
       "</style>\n",
       "<table border=\"1\" class=\"dataframe\">\n",
       "  <thead>\n",
       "    <tr style=\"text-align: right;\">\n",
       "      <th></th>\n",
       "      <th>Highway KM/L</th>\n",
       "      <th>City KM/L</th>\n",
       "    </tr>\n",
       "    <tr>\n",
       "      <th>Drivetrain</th>\n",
       "      <th></th>\n",
       "      <th></th>\n",
       "    </tr>\n",
       "  </thead>\n",
       "  <tbody>\n",
       "    <tr>\n",
       "      <th>2-Wheel Drive, Front</th>\n",
       "      <td>14.029714</td>\n",
       "      <td>10.628571</td>\n",
       "    </tr>\n",
       "    <tr>\n",
       "      <th>Front-Wheel Drive</th>\n",
       "      <td>12.166210</td>\n",
       "      <td>9.002214</td>\n",
       "    </tr>\n",
       "    <tr>\n",
       "      <th>All-Wheel Drive</th>\n",
       "      <td>10.882531</td>\n",
       "      <td>7.785598</td>\n",
       "    </tr>\n",
       "    <tr>\n",
       "      <th>4-Wheel Drive</th>\n",
       "      <td>9.668584</td>\n",
       "      <td>7.190861</td>\n",
       "    </tr>\n",
       "    <tr>\n",
       "      <th>Rear-Wheel Drive</th>\n",
       "      <td>9.023946</td>\n",
       "      <td>6.556574</td>\n",
       "    </tr>\n",
       "    <tr>\n",
       "      <th>4-Wheel or All-Wheel Drive</th>\n",
       "      <td>8.347130</td>\n",
       "      <td>6.392049</td>\n",
       "    </tr>\n",
       "    <tr>\n",
       "      <th>2-Wheel Drive</th>\n",
       "      <td>8.222444</td>\n",
       "      <td>6.642480</td>\n",
       "    </tr>\n",
       "    <tr>\n",
       "      <th>Part-time 4-Wheel Drive</th>\n",
       "      <td>8.115385</td>\n",
       "      <td>6.215696</td>\n",
       "    </tr>\n",
       "  </tbody>\n",
       "</table>\n",
       "</div>"
      ],
      "text/plain": [
       "                            Highway KM/L  City KM/L\n",
       "Drivetrain                                         \n",
       "2-Wheel Drive, Front           14.029714  10.628571\n",
       "Front-Wheel Drive              12.166210   9.002214\n",
       "All-Wheel Drive                10.882531   7.785598\n",
       "4-Wheel Drive                   9.668584   7.190861\n",
       "Rear-Wheel Drive                9.023946   6.556574\n",
       "4-Wheel or All-Wheel Drive      8.347130   6.392049\n",
       "2-Wheel Drive                   8.222444   6.642480\n",
       "Part-time 4-Wheel Drive         8.115385   6.215696"
      ]
     },
     "execution_count": 22,
     "metadata": {},
     "output_type": "execute_result"
    }
   ],
   "source": [
    "(cars.groupby([\"Drivetrain\"])[\"Highway KM/L\",\"City KM/L\"].mean()).sort_values(by=[\"Highway KM/L\",\"City KM/L\"],ascending=False)"
   ]
  },
  {
   "cell_type": "markdown",
   "metadata": {
    "id": "2avLmljX6Fg9"
   },
   "source": [
    "Do cars with automatic transmission consume more fuel than cars with manual transmission?"
   ]
  },
  {
   "cell_type": "code",
   "execution_count": 80,
   "metadata": {
    "colab": {
     "base_uri": "https://localhost:8080/",
     "height": 138
    },
    "executionInfo": {
     "elapsed": 246,
     "status": "ok",
     "timestamp": 1623146549152,
     "user": {
      "displayName": "Ignacio Soteras",
      "photoUrl": "",
      "userId": "02050793736257155229"
     },
     "user_tz": -120
    },
    "id": "VZv72ngN6Fg9",
    "outputId": "88712749-0f24-4cc6-a007-0b05f79e885d",
    "scrolled": true
   },
   "outputs": [
    {
     "data": {
      "text/html": [
       "<div>\n",
       "<style scoped>\n",
       "    .dataframe tbody tr th:only-of-type {\n",
       "        vertical-align: middle;\n",
       "    }\n",
       "\n",
       "    .dataframe tbody tr th {\n",
       "        vertical-align: top;\n",
       "    }\n",
       "\n",
       "    .dataframe thead th {\n",
       "        text-align: right;\n",
       "    }\n",
       "</style>\n",
       "<table border=\"1\" class=\"dataframe\">\n",
       "  <thead>\n",
       "    <tr style=\"text-align: right;\">\n",
       "      <th></th>\n",
       "      <th>City_Km/Liter</th>\n",
       "    </tr>\n",
       "    <tr>\n",
       "      <th>Trans</th>\n",
       "      <th></th>\n",
       "    </tr>\n",
       "  </thead>\n",
       "  <tbody>\n",
       "    <tr>\n",
       "      <th>Manual</th>\n",
       "      <td>7.968348</td>\n",
       "    </tr>\n",
       "    <tr>\n",
       "      <th>Automatic</th>\n",
       "      <td>7.278292</td>\n",
       "    </tr>\n",
       "  </tbody>\n",
       "</table>\n",
       "</div>"
      ],
      "text/plain": [
       "           City_Km/Liter\n",
       "Trans                   \n",
       "Manual          7.968348\n",
       "Automatic       7.278292"
      ]
     },
     "execution_count": 80,
     "metadata": {
      "tags": []
     },
     "output_type": "execute_result"
    }
   ],
   "source": [
    "## Your Code here"
   ]
  },
  {
   "cell_type": "code",
   "execution_count": 26,
   "metadata": {},
   "outputs": [
    {
     "data": {
      "text/plain": [
       "Transmission (Binary)\n",
       "Manual       7.968348\n",
       "Automatic    7.278292\n",
       "Name: City KM/L, dtype: float64"
      ]
     },
     "execution_count": 26,
     "metadata": {},
     "output_type": "execute_result"
    }
   ],
   "source": [
    "(cars.groupby([\"Transmission (Binary)\"])[\"City KM/L\"].mean()).sort_values(ascending=False)"
   ]
  },
  {
   "cell_type": "markdown",
   "metadata": {
    "id": "tJsmxD3K6Fg9"
   },
   "source": [
    "Use `groupby` and `aggregate` with different aggregation measures for different columns:"
   ]
  },
  {
   "cell_type": "markdown",
   "metadata": {},
   "source": [
    "aggregate with average City_Km/Liter and the count of the Trans"
   ]
  },
  {
   "cell_type": "code",
   "execution_count": 143,
   "metadata": {
    "colab": {
     "base_uri": "https://localhost:8080/",
     "height": 138
    },
    "executionInfo": {
     "elapsed": 268,
     "status": "ok",
     "timestamp": 1623146659201,
     "user": {
      "displayName": "Ignacio Soteras",
      "photoUrl": "",
      "userId": "02050793736257155229"
     },
     "user_tz": -120
    },
    "id": "1rVFzsdG6Fg9",
    "outputId": "ad726e32-d3d9-4d69-b9e8-c7ae43a40c96"
   },
   "outputs": [
    {
     "data": {
      "text/html": [
       "<div>\n",
       "<style scoped>\n",
       "    .dataframe tbody tr th:only-of-type {\n",
       "        vertical-align: middle;\n",
       "    }\n",
       "\n",
       "    .dataframe tbody tr th {\n",
       "        vertical-align: top;\n",
       "    }\n",
       "\n",
       "    .dataframe thead th {\n",
       "        text-align: right;\n",
       "    }\n",
       "</style>\n",
       "<table border=\"1\" class=\"dataframe\">\n",
       "  <thead>\n",
       "    <tr style=\"text-align: right;\">\n",
       "      <th></th>\n",
       "      <th>City_Km/Liter</th>\n",
       "      <th>Trans</th>\n",
       "    </tr>\n",
       "    <tr>\n",
       "      <th>Trans</th>\n",
       "      <th></th>\n",
       "      <th></th>\n",
       "    </tr>\n",
       "  </thead>\n",
       "  <tbody>\n",
       "    <tr>\n",
       "      <th>Automatic</th>\n",
       "      <td>7.278292</td>\n",
       "      <td>24290</td>\n",
       "    </tr>\n",
       "    <tr>\n",
       "      <th>Manual</th>\n",
       "      <td>7.968348</td>\n",
       "      <td>11662</td>\n",
       "    </tr>\n",
       "  </tbody>\n",
       "</table>\n",
       "</div>"
      ],
      "text/plain": [
       "           City_Km/Liter  Trans\n",
       "Trans                          \n",
       "Automatic       7.278292  24290\n",
       "Manual          7.968348  11662"
      ]
     },
     "execution_count": 143,
     "metadata": {},
     "output_type": "execute_result"
    }
   ],
   "source": [
    "## your code is here"
   ]
  },
  {
   "cell_type": "code",
   "execution_count": 29,
   "metadata": {},
   "outputs": [
    {
     "name": "stderr",
     "output_type": "stream",
     "text": [
      "C:\\Users\\Flo\\AppData\\Local\\Temp/ipykernel_11780/1013381074.py:1: FutureWarning: Indexing with multiple keys (implicitly converted to a tuple of keys) will be deprecated, use a list instead.\n",
      "  cars.groupby([\"Transmission (Binary)\"])[\"Transmission (Binary)\",\"City KM/L\"].agg([\"count\",\"mean\"])\n"
     ]
    },
    {
     "data": {
      "text/html": [
       "<div>\n",
       "<style scoped>\n",
       "    .dataframe tbody tr th:only-of-type {\n",
       "        vertical-align: middle;\n",
       "    }\n",
       "\n",
       "    .dataframe tbody tr th {\n",
       "        vertical-align: top;\n",
       "    }\n",
       "\n",
       "    .dataframe thead tr th {\n",
       "        text-align: left;\n",
       "    }\n",
       "\n",
       "    .dataframe thead tr:last-of-type th {\n",
       "        text-align: right;\n",
       "    }\n",
       "</style>\n",
       "<table border=\"1\" class=\"dataframe\">\n",
       "  <thead>\n",
       "    <tr>\n",
       "      <th></th>\n",
       "      <th colspan=\"2\" halign=\"left\">City KM/L</th>\n",
       "    </tr>\n",
       "    <tr>\n",
       "      <th></th>\n",
       "      <th>count</th>\n",
       "      <th>mean</th>\n",
       "    </tr>\n",
       "    <tr>\n",
       "      <th>Transmission (Binary)</th>\n",
       "      <th></th>\n",
       "      <th></th>\n",
       "    </tr>\n",
       "  </thead>\n",
       "  <tbody>\n",
       "    <tr>\n",
       "      <th>Automatic</th>\n",
       "      <td>24290</td>\n",
       "      <td>7.278292</td>\n",
       "    </tr>\n",
       "    <tr>\n",
       "      <th>Manual</th>\n",
       "      <td>11662</td>\n",
       "      <td>7.968348</td>\n",
       "    </tr>\n",
       "  </tbody>\n",
       "</table>\n",
       "</div>"
      ],
      "text/plain": [
       "                      City KM/L          \n",
       "                          count      mean\n",
       "Transmission (Binary)                    \n",
       "Automatic                 24290  7.278292\n",
       "Manual                    11662  7.968348"
      ]
     },
     "execution_count": 29,
     "metadata": {},
     "output_type": "execute_result"
    }
   ],
   "source": [
    "cars.groupby([\"Transmission (Binary)\"])[\"Transmission (Binary)\",\"City KM/L\"].agg([\"count\",\"mean\"])"
   ]
  },
  {
   "cell_type": "markdown",
   "metadata": {},
   "source": [
    "aggregate with average City_Km/Liter and the minimum of the Trans"
   ]
  },
  {
   "cell_type": "code",
   "execution_count": 144,
   "metadata": {
    "colab": {
     "base_uri": "https://localhost:8080/",
     "height": 138
    },
    "executionInfo": {
     "elapsed": 228,
     "status": "ok",
     "timestamp": 1623147799942,
     "user": {
      "displayName": "Ignacio Soteras",
      "photoUrl": "",
      "userId": "02050793736257155229"
     },
     "user_tz": -120
    },
    "id": "qsrSdXAdJWAO",
    "outputId": "89b30e64-6827-4ac0-f386-87bedec3fd4b"
   },
   "outputs": [
    {
     "data": {
      "text/html": [
       "<div>\n",
       "<style scoped>\n",
       "    .dataframe tbody tr th:only-of-type {\n",
       "        vertical-align: middle;\n",
       "    }\n",
       "\n",
       "    .dataframe tbody tr th {\n",
       "        vertical-align: top;\n",
       "    }\n",
       "\n",
       "    .dataframe thead th {\n",
       "        text-align: right;\n",
       "    }\n",
       "</style>\n",
       "<table border=\"1\" class=\"dataframe\">\n",
       "  <thead>\n",
       "    <tr style=\"text-align: right;\">\n",
       "      <th></th>\n",
       "      <th>City_Km/Liter</th>\n",
       "    </tr>\n",
       "    <tr>\n",
       "      <th>Trans</th>\n",
       "      <th></th>\n",
       "    </tr>\n",
       "  </thead>\n",
       "  <tbody>\n",
       "    <tr>\n",
       "      <th>Automatic</th>\n",
       "      <td>2.976000</td>\n",
       "    </tr>\n",
       "    <tr>\n",
       "      <th>Manual</th>\n",
       "      <td>2.550857</td>\n",
       "    </tr>\n",
       "  </tbody>\n",
       "</table>\n",
       "</div>"
      ],
      "text/plain": [
       "           City_Km/Liter\n",
       "Trans                   \n",
       "Automatic       2.976000\n",
       "Manual          2.550857"
      ]
     },
     "execution_count": 144,
     "metadata": {},
     "output_type": "execute_result"
    }
   ],
   "source": [
    "### your code is here"
   ]
  },
  {
   "cell_type": "code",
   "execution_count": 33,
   "metadata": {},
   "outputs": [
    {
     "data": {
      "text/plain": [
       "Transmission (Binary)\n",
       "Automatic    2.976000\n",
       "Manual       2.550857\n",
       "Name: City KM/L, dtype: float64"
      ]
     },
     "execution_count": 33,
     "metadata": {},
     "output_type": "execute_result"
    }
   ],
   "source": [
    "cars.groupby([\"Transmission (Binary)\"])[\"City KM/L\"].min()"
   ]
  }
 ],
 "metadata": {
  "colab": {
   "name": "Pandas_Grouping_Joining_Cars_Structure.ipynb",
   "provenance": []
  },
  "kernelspec": {
   "display_name": "Python 3 (ipykernel)",
   "language": "python",
   "name": "python3"
  },
  "language_info": {
   "codemirror_mode": {
    "name": "ipython",
    "version": 3
   },
   "file_extension": ".py",
   "mimetype": "text/x-python",
   "name": "python",
   "nbconvert_exporter": "python",
   "pygments_lexer": "ipython3",
   "version": "3.9.7"
  },
  "toc": {
   "base_numbering": 1,
   "nav_menu": {},
   "number_sections": true,
   "sideBar": true,
   "skip_h1_title": false,
   "title_cell": "Table of Contents",
   "title_sidebar": "Contents",
   "toc_cell": false,
   "toc_position": {},
   "toc_section_display": true,
   "toc_window_display": false
  },
  "varInspector": {
   "cols": {
    "lenName": 16,
    "lenType": 16,
    "lenVar": 40
   },
   "kernels_config": {
    "python": {
     "delete_cmd_postfix": "",
     "delete_cmd_prefix": "del ",
     "library": "var_list.py",
     "varRefreshCmd": "print(var_dic_list())"
    },
    "r": {
     "delete_cmd_postfix": ") ",
     "delete_cmd_prefix": "rm(",
     "library": "var_list.r",
     "varRefreshCmd": "cat(var_dic_list()) "
    }
   },
   "types_to_exclude": [
    "module",
    "function",
    "builtin_function_or_method",
    "instance",
    "_Feature"
   ],
   "window_display": false
  }
 },
 "nbformat": 4,
 "nbformat_minor": 1
}
