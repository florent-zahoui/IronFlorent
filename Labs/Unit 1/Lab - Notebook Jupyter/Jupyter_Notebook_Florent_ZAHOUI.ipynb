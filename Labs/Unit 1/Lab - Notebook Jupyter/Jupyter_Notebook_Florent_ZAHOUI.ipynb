{
 "cells": [
  {
   "cell_type": "markdown",
   "id": "461e2286",
   "metadata": {
    "slideshow": {
     "slide_type": "slide"
    }
   },
   "source": [
    "*[Pia's favourite vacation](#cell2)<br>\n",
    "*[Description](#cell3)<br>\n",
    "*[Herself](#cell4)<br>\n",
    "*[Her favourite vacation](#cell5)<br>\n",
    "*[Let's have a look at it](#cell6)<br>\n",
    "*[Notes](#cell7)<br>\n",
    "\n"
   ]
  },
  {
   "cell_type": "markdown",
   "id": "4d102a99",
   "metadata": {
    "slideshow": {
     "slide_type": "slide"
    }
   },
   "source": [
    "<a id=\"cell2\"></a>\n",
    "\n",
    "### Pia's favourite vacation "
   ]
  },
  {
   "cell_type": "markdown",
   "id": "778f327f",
   "metadata": {
    "slideshow": {
     "slide_type": "slide"
    }
   },
   "source": [
    "<a id=\"cell3\"></a>\n",
    "\n",
    "## This notebook explains the habits of my girlfriend Pia during vacation, the places she likes to visit and the activities she likes to do."
   ]
  },
  {
   "cell_type": "code",
   "execution_count": null,
   "id": "9c10c39f",
   "metadata": {
    "slideshow": {
     "slide_type": "notes"
    }
   },
   "outputs": [
    {
     "name": "stdout",
     "output_type": "stream",
     "text": [
      "Enter her name:\n"
     ]
    }
   ],
   "source": [
    "print('Enter her name:')\n",
    "x = input()\n",
    "print('Her name is : ' + x)"
   ]
  },
  {
   "cell_type": "markdown",
   "id": "f90f3873",
   "metadata": {
    "slideshow": {
     "slide_type": "slide"
    }
   },
   "source": [
    "<a id=\"cell4\"></a>\n",
    "\n",
    "![alt text](https://media.gettyimages.com/photos/woman-enjoying-the-stunning-view-of-sunset-by-the-harbour-picture-id650616702?s=2048x2048)"
   ]
  },
  {
   "cell_type": "code",
   "execution_count": null,
   "id": "85f59c82",
   "metadata": {
    "scrolled": true,
    "slideshow": {
     "slide_type": "slide"
    }
   },
   "outputs": [],
   "source": [
    "y = input('Her favourite vacation activity is: ')\n",
    "print('Indeed ! It is ' + y)"
   ]
  },
  {
   "cell_type": "markdown",
   "id": "275db0ea",
   "metadata": {
    "slideshow": {
     "slide_type": "slide"
    }
   },
   "source": [
    "<a id=\"cell5\"></a>\n",
    "\n",
    "![alt text](https://media.gettyimages.com/photos/town-of-bellagio-on-como-lake-national-landmark-italy-picture-id170550591?s=2048x2048)\n",
    "\n"
   ]
  },
  {
   "cell_type": "markdown",
   "id": "fbbbc82e",
   "metadata": {
    "slideshow": {
     "slide_type": "slide"
    }
   },
   "source": [
    "<span style=\"color:blue\">\n",
    "*During the vacation, she likes*\n",
    "\n",
    "1. to drink Cola Light\n",
    "2. to swim\n",
    "3. to enjoy the nature \n",
    "\n",
    "</span>"
   ]
  },
  {
   "cell_type": "markdown",
   "id": "a4d2a0ed",
   "metadata": {
    "slideshow": {
     "slide_type": "slide"
    }
   },
   "source": [
    "<a id=\"cell6\"></a>\n",
    "\n",
    "[![Everything Is AWESOME](https://img.youtube.com/vi/QnuU7kgJUFo/0.jpg)](https://www.youtube.com/watch?v=QnuU7kgJUFo \"Everything Is AWESOME\")"
   ]
  },
  {
   "cell_type": "markdown",
   "id": "97207ad9",
   "metadata": {
    "slideshow": {
     "slide_type": "notes"
    }
   },
   "source": [
    "<a id=\"cell7\"></a>\n",
    "\n",
    "- Since Markdown doesn't directly support video embedding from youtube, I have added a link to the video under a video screenshot instead\n",
    "- I have used HTML language to add color since Markdown doesn't have a built-in color setting."
   ]
  }
 ],
 "metadata": {
  "celltoolbar": "Slideshow",
  "kernelspec": {
   "display_name": "Python 3 (ipykernel)",
   "language": "python",
   "name": "python3"
  },
  "language_info": {
   "codemirror_mode": {
    "name": "ipython",
    "version": 3
   },
   "file_extension": ".py",
   "mimetype": "text/x-python",
   "name": "python",
   "nbconvert_exporter": "python",
   "pygments_lexer": "ipython3",
   "version": "3.9.7"
  }
 },
 "nbformat": 4,
 "nbformat_minor": 5
}
