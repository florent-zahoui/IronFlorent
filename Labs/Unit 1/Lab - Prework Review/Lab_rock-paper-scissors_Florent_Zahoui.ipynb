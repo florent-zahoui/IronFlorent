{
 "cells": [
  {
   "cell_type": "markdown",
   "metadata": {},
   "source": [
    "<img src=\"https://bit.ly/2VnXWr2\" width=\"100\" align=\"left\">"
   ]
  },
  {
   "cell_type": "markdown",
   "metadata": {},
   "source": [
    "# Rock, Paper & Scissors\n",
    "\n",
    "Let's play the famous game against our computer. You can check the rules [here](https://en.wikipedia.org/wiki/Rock%E2%80%93paper%E2%80%93scissors). \n",
    "\n",
    "## Task\n",
    "Create a program that imitates the playability of the well known game of rock, paper, scissors. Follow the guidelines provided.\n",
    "\n",
    "## Tools\n",
    "1. Loop: **for/while**\n",
    "2. Functions: **input(), print()...**\n",
    "3. Conditional statements: **if, elif, else**\n",
    "4. Definition of functions. Modular programming\n",
    "5. Import modules\n",
    "\n",
    "**To solve this challenge, the use of functions is recommended.**\n",
    "\n",
    "#### 1. Import the choice function of the random module."
   ]
  },
  {
   "cell_type": "code",
   "execution_count": 1,
   "metadata": {},
   "outputs": [],
   "source": [
    "import random"
   ]
  },
  {
   "cell_type": "markdown",
   "metadata": {},
   "source": [
    "#### 2. Create a list that includes the 3 possible gesture options of the game: 'rock', 'paper' or 'scissors'. Store the list in a variable called `gestures`."
   ]
  },
  {
   "cell_type": "code",
   "execution_count": 2,
   "metadata": {},
   "outputs": [],
   "source": [
    "gestures = ['rock','paper','scissors']"
   ]
  },
  {
   "cell_type": "markdown",
   "metadata": {},
   "source": [
    "#### 3. Create a variable called `n_rounds` to store the maximum number of rounds to play in a game. \n",
    "Remember that the number of rounds must be odd: 1, 3, 5, ..."
   ]
  },
  {
   "cell_type": "code",
   "execution_count": 3,
   "metadata": {},
   "outputs": [],
   "source": [
    "n_rounds = 3"
   ]
  },
  {
   "cell_type": "code",
   "execution_count": 3,
   "metadata": {},
   "outputs": [
    {
     "name": "stdout",
     "output_type": "stream",
     "text": [
      "Enter an odd number of rounds: 5\n",
      "We play 5\n"
     ]
    }
   ],
   "source": [
    "def number_rounds():\n",
    "    while True:\n",
    "        try:\n",
    "            n_rounds = int(input(\"Enter an odd number of rounds: \")) \n",
    "            if n_rounds % 2 != 0:\n",
    "              print(\"We play \" + str(n_rounds))\n",
    "              break;\n",
    "            else:\n",
    "              print(\"Please enter a correct number\")      \n",
    "        except ValueError:\n",
    "            print(\"Please enter a correct value\")\n",
    "            continue\n",
    "            \n",
    "number_rounds()"
   ]
  },
  {
   "cell_type": "markdown",
   "metadata": {},
   "source": [
    "#### 4. Create a variable called `rounds_to_win` to store the number of rounds that a player must win to win the game.\n",
    "**Hint**: the value stored in `rounds_to_win` depends on the value of `n_rounds`. "
   ]
  },
  {
   "cell_type": "code",
   "execution_count": 5,
   "metadata": {},
   "outputs": [
    {
     "name": "stdout",
     "output_type": "stream",
     "text": [
      "2.0\n"
     ]
    }
   ],
   "source": [
    "rounds_to_win = (n_rounds/2) + 0.5\n",
    "print(rounds_to_win)"
   ]
  },
  {
   "cell_type": "markdown",
   "metadata": {},
   "source": [
    "#### 5. Create two variables to store the number of rounds that the computer and the player have won. Call these variables `cpu_score` and `player_score`."
   ]
  },
  {
   "cell_type": "code",
   "execution_count": 6,
   "metadata": {},
   "outputs": [],
   "source": [
    "cpu_score = 0\n",
    "player_score = 0"
   ]
  },
  {
   "cell_type": "markdown",
   "metadata": {},
   "source": [
    "#### 6. Define a function that randomly returns one of the 3 gesture options.\n",
    "You will use this function to simulate the gesture choice of the computer. "
   ]
  },
  {
   "cell_type": "code",
   "execution_count": 22,
   "metadata": {
    "scrolled": true
   },
   "outputs": [
    {
     "name": "stdout",
     "output_type": "stream",
     "text": [
      "scissors\n"
     ]
    }
   ],
   "source": [
    "cpu_move = random.choice(gestures)\n",
    "print(cpu_move)"
   ]
  },
  {
   "cell_type": "code",
   "execution_count": 4,
   "metadata": {},
   "outputs": [
    {
     "name": "stdout",
     "output_type": "stream",
     "text": [
      "scissors\n"
     ]
    }
   ],
   "source": [
    "def computer_move():\n",
    "    cpu_move = random.choice(gestures)\n",
    "    print(cpu_move)\n",
    "\n",
    "computer_move()"
   ]
  },
  {
   "cell_type": "markdown",
   "metadata": {},
   "source": [
    "#### 7. Define a function that asks the player which is the gesture he or she wants to show: 'rock', 'paper' or 'scissors'.\n",
    "The player should only be allowed to choose one of the 3 gesture options. If the player's choice is not rock, paper or scissors, keep asking until it is."
   ]
  },
  {
   "cell_type": "code",
   "execution_count": 27,
   "metadata": {},
   "outputs": [
    {
     "name": "stdout",
     "output_type": "stream",
     "text": [
      "Enter your gesture :dolphin\n",
      "Please select a correct move\n"
     ]
    }
   ],
   "source": [
    "x = input(\"Enter your gesture :\")\n",
    "player_move = \"None\"\n",
    "\n",
    "if x in gestures:\n",
    "    print(\"Let's go for the \" + x + \"!\")\n",
    "    player_move = x\n",
    "else:\n",
    "    print(\"Please select a correct move\")"
   ]
  },
  {
   "cell_type": "code",
   "execution_count": 5,
   "metadata": {},
   "outputs": [
    {
     "name": "stdout",
     "output_type": "stream",
     "text": [
      "Enter your move: rock\n",
      "Let's go\n"
     ]
    }
   ],
   "source": [
    "#To solve this question, take the input in an infinite loop (using while True) and when the value is valid, terminate the loop (using break keyword). To handle value errors while reading an integer value – use the try-except block and continue the program's execution (using continue keyword) to the loop to read it again.\n",
    "\n",
    "def player_input():\n",
    "    while True:\n",
    "        try:\n",
    "            player_move = input(\"Enter your move: \") \n",
    "            if player_move in gestures:\n",
    "              print(\"Let's go\")\n",
    "              break;\n",
    "            else:\n",
    "              print(\"Please enter a correct move\")      \n",
    "        except ValueError:\n",
    "            print(\"Please enter a correct move\")\n",
    "            continue\n",
    "        \n",
    "player_input()"
   ]
  },
  {
   "cell_type": "markdown",
   "metadata": {},
   "source": [
    "#### 8. Define a function that checks who won a round. \n",
    "The function should return 0 if there is a tie, 1 if the computer wins and 2 if the player wins."
   ]
  },
  {
   "cell_type": "code",
   "execution_count": 8,
   "metadata": {},
   "outputs": [
    {
     "name": "stdout",
     "output_type": "stream",
     "text": [
      "Enter your move: rock\n",
      "Let's go\n",
      "scissors\n",
      "Tie !\n"
     ]
    }
   ],
   "source": [
    "\n",
    "    if player_move == cpu_move:\n",
    "        print(\"Tie !\")\n",
    "    elif player_move == \"rock\" and cpu_move == \"scissors\":\n",
    "        print(\"2\")\n",
    "        player_score += 1\n",
    "    elif player_move == \"scissors\" and cpu_move == \"paper\":\n",
    "        print(\"2\")\n",
    "        player_score += 1\n",
    "    elif player_move == \"paper\" and cpu_move == \"rock\":\n",
    "        print(\"2\")\n",
    "        player_score += 1\n",
    "    else:\n",
    "        print(\"1\")\n",
    "        cpu_score += 1"
   ]
  },
  {
   "cell_type": "code",
   "execution_count": 9,
   "metadata": {},
   "outputs": [
    {
     "name": "stdout",
     "output_type": "stream",
     "text": [
      "Enter your move: rock\n",
      "Let's go\n",
      "paper\n"
     ]
    },
    {
     "ename": "NameError",
     "evalue": "name 'player_move' is not defined",
     "output_type": "error",
     "traceback": [
      "\u001b[1;31m---------------------------------------------------------------------------\u001b[0m",
      "\u001b[1;31mNameError\u001b[0m                                 Traceback (most recent call last)",
      "\u001b[1;32m~\\AppData\\Local\\Temp/ipykernel_5404/3504327424.py\u001b[0m in \u001b[0;36m<module>\u001b[1;34m\u001b[0m\n\u001b[0;32m     17\u001b[0m         \u001b[0mcpu_score\u001b[0m \u001b[1;33m+=\u001b[0m \u001b[1;36m1\u001b[0m\u001b[1;33m\u001b[0m\u001b[1;33m\u001b[0m\u001b[0m\n\u001b[0;32m     18\u001b[0m \u001b[1;33m\u001b[0m\u001b[0m\n\u001b[1;32m---> 19\u001b[1;33m \u001b[0mround_won\u001b[0m\u001b[1;33m(\u001b[0m\u001b[1;33m)\u001b[0m\u001b[1;33m\u001b[0m\u001b[1;33m\u001b[0m\u001b[0m\n\u001b[0m",
      "\u001b[1;32m~\\AppData\\Local\\Temp/ipykernel_5404/3504327424.py\u001b[0m in \u001b[0;36mround_won\u001b[1;34m()\u001b[0m\n\u001b[0;32m      2\u001b[0m     \u001b[0mplayer_input\u001b[0m\u001b[1;33m(\u001b[0m\u001b[1;33m)\u001b[0m\u001b[1;33m\u001b[0m\u001b[1;33m\u001b[0m\u001b[0m\n\u001b[0;32m      3\u001b[0m     \u001b[0mcomputer_move\u001b[0m\u001b[1;33m(\u001b[0m\u001b[1;33m)\u001b[0m\u001b[1;33m\u001b[0m\u001b[1;33m\u001b[0m\u001b[0m\n\u001b[1;32m----> 4\u001b[1;33m     \u001b[1;32mif\u001b[0m \u001b[0mplayer_move\u001b[0m \u001b[1;33m==\u001b[0m \u001b[0mcpu_move\u001b[0m\u001b[1;33m:\u001b[0m\u001b[1;33m\u001b[0m\u001b[1;33m\u001b[0m\u001b[0m\n\u001b[0m\u001b[0;32m      5\u001b[0m         \u001b[0mprint\u001b[0m\u001b[1;33m(\u001b[0m\u001b[1;34m\"Tie !\"\u001b[0m\u001b[1;33m)\u001b[0m\u001b[1;33m\u001b[0m\u001b[1;33m\u001b[0m\u001b[0m\n\u001b[0;32m      6\u001b[0m     \u001b[1;32melif\u001b[0m \u001b[0mplayer_move\u001b[0m \u001b[1;33m==\u001b[0m \u001b[1;34m\"rock\"\u001b[0m \u001b[1;32mand\u001b[0m \u001b[0mcpu_move\u001b[0m \u001b[1;33m==\u001b[0m \u001b[1;34m\"scissors\"\u001b[0m\u001b[1;33m:\u001b[0m\u001b[1;33m\u001b[0m\u001b[1;33m\u001b[0m\u001b[0m\n",
      "\u001b[1;31mNameError\u001b[0m: name 'player_move' is not defined"
     ]
    }
   ],
   "source": [
    "def round_won():\n",
    "    player_input()\n",
    "    computer_move()\n",
    "    if player_move == cpu_move:\n",
    "        print(\"Tie !\")\n",
    "    elif player_move == \"rock\" and cpu_move == \"scissors\":\n",
    "        print(\"2\")\n",
    "        player_score += 1\n",
    "    elif player_move == \"scissors\" and cpu_move == \"paper\":\n",
    "        print(\"2\")\n",
    "        player_score += 1\n",
    "    elif player_move == \"paper\" and cpu_move == \"rock\":\n",
    "        print(\"2\")\n",
    "        player_score += 1\n",
    "    else:\n",
    "        print(\"1\")\n",
    "        cpu_score += 1\n",
    "\n",
    "round_won()"
   ]
  },
  {
   "cell_type": "markdown",
   "metadata": {},
   "source": [
    "#### 9. Define a function that prints the choice of the computer, the choice of the player and a message that announces who won the current round. \n",
    "You should also use this function to update the variables that count the number of rounds that the computer and the player have won. The score of the winner increases by one point. If there is a tie, the score does not increase."
   ]
  },
  {
   "cell_type": "code",
   "execution_count": 33,
   "metadata": {},
   "outputs": [
    {
     "name": "stdout",
     "output_type": "stream",
     "text": [
      "rock\n",
      "rock\n",
      "Tie in that round !\n"
     ]
    }
   ],
   "source": [
    "def choice():\n",
    "    print(player_move)\n",
    "    print(cpu_move)\n",
    "    if player_score > cpu_score:\n",
    "        print(\"Player won the round\")\n",
    "    elif player_score < cpu_score:\n",
    "        print(\"CPU won the round \")\n",
    "    else:\n",
    "        print(\"Tie in that round !\")\n",
    "        \n",
    "choice()"
   ]
  },
  {
   "cell_type": "markdown",
   "metadata": {},
   "source": [
    "#### 10. Now it's time to code the execution of the game using the functions and variables you defined above. \n",
    "\n",
    "First, create a loop structure that repeats while no player reaches the minimum score necessary to win and the number of rounds is less than the maximum number of rounds to play in a game.  \n",
    "\n",
    "Inside the loop, use the functions and variables above to create the execution of a round: ask for the player's choice, generate the random choice of the computer, show the round results, update the scores, etc. "
   ]
  },
  {
   "cell_type": "code",
   "execution_count": 1,
   "metadata": {},
   "outputs": [
    {
     "name": "stdout",
     "output_type": "stream",
     "text": [
      "Enter an odd number of rounds: 9\n",
      "We play 9\n",
      "Enter your gesture :rock\n",
      "Let's go for the rock!\n",
      "CPU plays : rock\n",
      "Tie !\n",
      "Player :0- CPU:0\n",
      "Enter your gesture :paper\n",
      "Let's go for the paper!\n",
      "CPU plays : rock\n",
      "Player wins the round !\n",
      "Player :1- CPU:0\n",
      "Enter your gesture :scissors\n",
      "Let's go for the scissors!\n",
      "CPU plays : rock\n",
      "CPU wins the round !\n",
      "Player :1- CPU:1\n",
      "Enter your gesture :dolphin\n",
      "Please select a correct move\n",
      "Enter your gesture :rock\n",
      "Let's go for the rock!\n",
      "CPU plays : paper\n",
      "CPU wins the round !\n",
      "Player :1- CPU:2\n",
      "Enter your gesture :paper\n",
      "Let's go for the paper!\n",
      "CPU plays : paper\n",
      "Tie !\n",
      "Player :1- CPU:2\n",
      "Enter your gesture :scissors\n",
      "Let's go for the scissors!\n",
      "CPU plays : scissors\n",
      "Tie !\n",
      "Player :1- CPU:2\n",
      "Enter your gesture :rock\n",
      "Let's go for the rock!\n",
      "CPU plays : rock\n",
      "Tie !\n",
      "Player :1- CPU:2\n",
      "Enter your gesture :rock\n",
      "Let's go for the rock!\n",
      "CPU plays : paper\n",
      "CPU wins the round !\n",
      "Player :1- CPU:3\n",
      "Enter your gesture :paper\n",
      "Let's go for the paper!\n",
      "CPU plays : scissors\n",
      "CPU wins the round !\n",
      "Player :1- CPU:4\n",
      "Enter your gesture :paper\n",
      "Let's go for the paper!\n",
      "CPU plays : rock\n",
      "Player wins the round !\n",
      "Player :2- CPU:4\n",
      "Enter your gesture :scissors\n",
      "Let's go for the scissors!\n",
      "CPU plays : rock\n",
      "CPU wins the round !\n",
      "Player :2- CPU:5\n",
      "CPU won the game \n"
     ]
    }
   ],
   "source": [
    "import random\n",
    "gestures = ['rock','paper','scissors']\n",
    "cpu_score = 0\n",
    "player_score = 0\n",
    "n_rounds = 0\n",
    "rounds_to_win = (n_rounds/2) + 0.5\n",
    "player_move = \"None\"\n",
    "\n",
    "while True:\n",
    "        try:\n",
    "            n_rounds = int(input(\"Enter an odd number of rounds: \")) \n",
    "            if n_rounds % 2 != 0:\n",
    "              print(\"We play \" + str(n_rounds))\n",
    "              break;\n",
    "            else:\n",
    "              print(\"Please enter a correct number\")      \n",
    "        except ValueError:\n",
    "            print(\"Please enter a correct value\")\n",
    "            continue\n",
    "\n",
    "rounds_to_win = (n_rounds/2) + 0.5\n",
    "\n",
    "while player_score < rounds_to_win and cpu_score < rounds_to_win:\n",
    "    x = input(\"Enter your gesture :\").lower()\n",
    "    if x in gestures:\n",
    "        print(\"Let's go for the \" + x + \"!\")\n",
    "        player_move = x\n",
    "        cpu_move = random.choice(gestures)\n",
    "        print(\"CPU plays : \" + cpu_move)\n",
    "        if player_move == cpu_move:\n",
    "            print(\"Tie !\")\n",
    "            print(\"Player :\" + str(player_score) + \"- CPU:\" + str(cpu_score))\n",
    "        elif player_move == \"rock\" and cpu_move == \"scissors\":\n",
    "            player_score += 1\n",
    "            print(\"Player wins the round !\")\n",
    "            print(\"Player :\" + str(player_score) + \"- CPU:\" + str(cpu_score))\n",
    "        elif player_move == \"scissors\" and cpu_move == \"paper\":\n",
    "            player_score += 1\n",
    "            print(\"Player wins the round !\")\n",
    "            print(\"Player :\" + str(player_score) + \"- CPU:\" + str(cpu_score))\n",
    "        elif player_move == \"paper\" and cpu_move == \"rock\":\n",
    "            player_score += 1\n",
    "            print(\"Player wins the round !\")\n",
    "            print(\"Player :\" + str(player_score) + \"- CPU:\" + str(cpu_score))\n",
    "        else:\n",
    "            cpu_score += 1\n",
    "            print(\"CPU wins the round !\")\n",
    "            print(\"Player :\" + str(player_score) + \"- CPU:\" + str(cpu_score))\n",
    "            \n",
    "    else:\n",
    "        print(\"Please select a correct move\")\n",
    "if player_score > cpu_score:\n",
    "    print(\"Player won the game\")\n",
    "else:\n",
    "    print(\"CPU won the game \")\n",
    "    \n",
    "    \n",
    "    "
   ]
  },
  {
   "cell_type": "markdown",
   "metadata": {},
   "source": [
    "#### 11. Print the winner of the game based on who won more rounds.\n",
    "Remember that the game might be tied. "
   ]
  },
  {
   "cell_type": "code",
   "execution_count": null,
   "metadata": {},
   "outputs": [],
   "source": []
  },
  {
   "cell_type": "markdown",
   "metadata": {},
   "source": [
    "# Bonus: Rock, Paper, Scissors, Lizard & Spock\n",
    "![](images/rpsls.jpg)\n",
    "\n",
    "In this challenge, you need to improve the previous game by adding two new options. To know more about the rules of the improved version of rock, paper, scissors, check this [link](http://www.samkass.com/theories/RPSSL.html). \n",
    "\n",
    "In addition, you will also need to improve how the game interacts with the player: the number of rounds to play, which must be an odd number, will be requested to the user until a valid number is entered. Define a new function to make that request.\n",
    "\n",
    "**Hint**: Try to reuse the code that you already coded in the previous challenge. If your code is efficient, this bonus will only consist of simple modifications to the original game."
   ]
  },
  {
   "cell_type": "code",
   "execution_count": null,
   "metadata": {},
   "outputs": [],
   "source": []
  }
 ],
 "metadata": {
  "kernelspec": {
   "display_name": "Python 3 (ipykernel)",
   "language": "python",
   "name": "python3"
  },
  "language_info": {
   "codemirror_mode": {
    "name": "ipython",
    "version": 3
   },
   "file_extension": ".py",
   "mimetype": "text/x-python",
   "name": "python",
   "nbconvert_exporter": "python",
   "pygments_lexer": "ipython3",
   "version": "3.9.7"
  }
 },
 "nbformat": 4,
 "nbformat_minor": 2
}
